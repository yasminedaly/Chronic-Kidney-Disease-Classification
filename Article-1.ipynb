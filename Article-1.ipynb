{
 "cells": [
  {
   "cell_type": "markdown",
   "id": "71d9646d",
   "metadata": {},
   "source": [
    "# Part1: Preprocessing"
   ]
  },
  {
   "cell_type": "code",
   "execution_count": 1,
   "id": "197c2cdb",
   "metadata": {
    "execution": {
     "iopub.execute_input": "2022-02-23T18:38:57.412205Z",
     "iopub.status.busy": "2022-02-23T18:38:57.411817Z",
     "iopub.status.idle": "2022-02-23T18:38:57.422198Z",
     "shell.execute_reply": "2022-02-23T18:38:57.421144Z",
     "shell.execute_reply.started": "2022-02-23T18:38:57.412115Z"
    }
   },
   "outputs": [],
   "source": [
    "#loading the kidney disease data\n",
    "import pandas as pd\n",
    "import numpy as np\n",
    "import warnings\n",
    "import matplotlib.pyplot as plt\n",
    "import seaborn as sns\n",
    "from scipy import stats\n",
    "from scipy.stats import norm, skew\n",
    "import warnings\n",
    "import plotly.express as px\n",
    "warnings.filterwarnings('ignore')"
   ]
  },
  {
   "cell_type": "code",
   "execution_count": 2,
   "id": "ed358bbe",
   "metadata": {
    "execution": {
     "iopub.execute_input": "2022-02-23T18:38:58.202489Z",
     "iopub.status.busy": "2022-02-23T18:38:58.202176Z",
     "iopub.status.idle": "2022-02-23T18:38:58.215715Z",
     "shell.execute_reply": "2022-02-23T18:38:58.214736Z",
     "shell.execute_reply.started": "2022-02-23T18:38:58.202456Z"
    }
   },
   "outputs": [],
   "source": [
    "pd.set_option('display.max_columns', 26)\n",
    "#data = pd.read_csv(r'C:\\Users\\Moudhaffer\\OneDrive\\Desktop\\Dataset\\kidney_disease.csv')\n",
    "data = pd.read_csv(r'C:\\Users\\Yasmine Daly\\Desktop\\School\\ML\\Articles\\kidney_disease.csv')"
   ]
  },
  {
   "cell_type": "code",
   "execution_count": 3,
   "id": "792d8791",
   "metadata": {
    "execution": {
     "iopub.execute_input": "2022-02-23T18:38:58.652842Z",
     "iopub.status.busy": "2022-02-23T18:38:58.652277Z",
     "iopub.status.idle": "2022-02-23T18:38:58.697703Z",
     "shell.execute_reply": "2022-02-23T18:38:58.696728Z",
     "shell.execute_reply.started": "2022-02-23T18:38:58.652797Z"
    },
    "scrolled": true
   },
   "outputs": [
    {
     "data": {
      "text/html": [
       "<style type=\"text/css\">\n",
       "#T_71d7e_row0_col0, #T_71d7e_row3_col0 {\n",
       "  background-color: #d48656;\n",
       "  color: #f1f1f1;\n",
       "}\n",
       "#T_71d7e_row0_col1, #T_71d7e_row2_col1, #T_71d7e_row4_col1 {\n",
       "  background-color: #bd784c;\n",
       "  color: #f1f1f1;\n",
       "}\n",
       "#T_71d7e_row0_col2, #T_71d7e_row0_col14, #T_71d7e_row1_col2, #T_71d7e_row1_col3, #T_71d7e_row2_col9, #T_71d7e_row3_col3, #T_71d7e_row5_col12, #T_71d7e_row6_col0, #T_71d7e_row6_col11, #T_71d7e_row6_col13, #T_71d7e_row7_col4, #T_71d7e_row8_col1, #T_71d7e_row9_col2, #T_71d7e_row9_col10 {\n",
       "  background-color: #ffc77f;\n",
       "  color: #000000;\n",
       "}\n",
       "#T_71d7e_row0_col3 {\n",
       "  background-color: #4f3220;\n",
       "  color: #f1f1f1;\n",
       "}\n",
       "#T_71d7e_row0_col4, #T_71d7e_row0_col12, #T_71d7e_row0_col13, #T_71d7e_row1_col0, #T_71d7e_row1_col1, #T_71d7e_row1_col4, #T_71d7e_row1_col9, #T_71d7e_row1_col10, #T_71d7e_row1_col11, #T_71d7e_row1_col12, #T_71d7e_row1_col13, #T_71d7e_row2_col12, #T_71d7e_row2_col13, #T_71d7e_row3_col2, #T_71d7e_row3_col4, #T_71d7e_row3_col13, #T_71d7e_row4_col4, #T_71d7e_row4_col12, #T_71d7e_row4_col13, #T_71d7e_row5_col4, #T_71d7e_row6_col3, #T_71d7e_row6_col4, #T_71d7e_row6_col12, #T_71d7e_row7_col1, #T_71d7e_row7_col12, #T_71d7e_row7_col13, #T_71d7e_row8_col4, #T_71d7e_row8_col12, #T_71d7e_row8_col13, #T_71d7e_row9_col4, #T_71d7e_row9_col9, #T_71d7e_row9_col14 {\n",
       "  background-color: #000000;\n",
       "  color: #f1f1f1;\n",
       "}\n",
       "#T_71d7e_row0_col9 {\n",
       "  background-color: #2c1c12;\n",
       "  color: #f1f1f1;\n",
       "}\n",
       "#T_71d7e_row0_col10 {\n",
       "  background-color: #3f2819;\n",
       "  color: #f1f1f1;\n",
       "}\n",
       "#T_71d7e_row0_col11, #T_71d7e_row2_col14 {\n",
       "  background-color: #050302;\n",
       "  color: #f1f1f1;\n",
       "}\n",
       "#T_71d7e_row1_col14 {\n",
       "  background-color: #603d27;\n",
       "  color: #f1f1f1;\n",
       "}\n",
       "#T_71d7e_row2_col0 {\n",
       "  background-color: #ffb472;\n",
       "  color: #000000;\n",
       "}\n",
       "#T_71d7e_row2_col2, #T_71d7e_row4_col2, #T_71d7e_row6_col2 {\n",
       "  background-color: #69422a;\n",
       "  color: #f1f1f1;\n",
       "}\n",
       "#T_71d7e_row2_col3, #T_71d7e_row4_col3, #T_71d7e_row7_col3, #T_71d7e_row9_col3 {\n",
       "  background-color: #9e6440;\n",
       "  color: #f1f1f1;\n",
       "}\n",
       "#T_71d7e_row2_col4, #T_71d7e_row5_col3, #T_71d7e_row8_col3 {\n",
       "  background-color: #ed9660;\n",
       "  color: #f1f1f1;\n",
       "}\n",
       "#T_71d7e_row2_col10 {\n",
       "  background-color: #7c4e32;\n",
       "  color: #f1f1f1;\n",
       "}\n",
       "#T_71d7e_row2_col11 {\n",
       "  background-color: #0e0905;\n",
       "  color: #f1f1f1;\n",
       "}\n",
       "#T_71d7e_row3_col1, #T_71d7e_row6_col1 {\n",
       "  background-color: #7e5033;\n",
       "  color: #f1f1f1;\n",
       "}\n",
       "#T_71d7e_row3_col9 {\n",
       "  background-color: #2a1b11;\n",
       "  color: #f1f1f1;\n",
       "}\n",
       "#T_71d7e_row3_col10 {\n",
       "  background-color: #875536;\n",
       "  color: #f1f1f1;\n",
       "}\n",
       "#T_71d7e_row3_col11 {\n",
       "  background-color: #291a10;\n",
       "  color: #f1f1f1;\n",
       "}\n",
       "#T_71d7e_row3_col12 {\n",
       "  background-color: #3a2517;\n",
       "  color: #f1f1f1;\n",
       "}\n",
       "#T_71d7e_row3_col14 {\n",
       "  background-color: #5a3924;\n",
       "  color: #f1f1f1;\n",
       "}\n",
       "#T_71d7e_row4_col0 {\n",
       "  background-color: #e3905c;\n",
       "  color: #f1f1f1;\n",
       "}\n",
       "#T_71d7e_row4_col9 {\n",
       "  background-color: #20140d;\n",
       "  color: #f1f1f1;\n",
       "}\n",
       "#T_71d7e_row4_col10 {\n",
       "  background-color: #1c120b;\n",
       "  color: #f1f1f1;\n",
       "}\n",
       "#T_71d7e_row4_col11 {\n",
       "  background-color: #070503;\n",
       "  color: #f1f1f1;\n",
       "}\n",
       "#T_71d7e_row4_col14 {\n",
       "  background-color: #70472d;\n",
       "  color: #f1f1f1;\n",
       "}\n",
       "#T_71d7e_row5_col0 {\n",
       "  background-color: #ffad6e;\n",
       "  color: #000000;\n",
       "}\n",
       "#T_71d7e_row5_col1, #T_71d7e_row9_col1, #T_71d7e_row9_col13 {\n",
       "  background-color: #fc9f65;\n",
       "  color: #000000;\n",
       "}\n",
       "#T_71d7e_row5_col2, #T_71d7e_row7_col2, #T_71d7e_row8_col2 {\n",
       "  background-color: #d28555;\n",
       "  color: #f1f1f1;\n",
       "}\n",
       "#T_71d7e_row5_col9 {\n",
       "  background-color: #020201;\n",
       "  color: #f1f1f1;\n",
       "}\n",
       "#T_71d7e_row5_col10 {\n",
       "  background-color: #19100a;\n",
       "  color: #f1f1f1;\n",
       "}\n",
       "#T_71d7e_row5_col11, #T_71d7e_row7_col11 {\n",
       "  background-color: #040201;\n",
       "  color: #f1f1f1;\n",
       "}\n",
       "#T_71d7e_row5_col13 {\n",
       "  background-color: #935d3b;\n",
       "  color: #f1f1f1;\n",
       "}\n",
       "#T_71d7e_row5_col14 {\n",
       "  background-color: #915b3a;\n",
       "  color: #f1f1f1;\n",
       "}\n",
       "#T_71d7e_row6_col9 {\n",
       "  background-color: #1a100a;\n",
       "  color: #f1f1f1;\n",
       "}\n",
       "#T_71d7e_row6_col10 {\n",
       "  background-color: #7f5033;\n",
       "  color: #f1f1f1;\n",
       "}\n",
       "#T_71d7e_row6_col14, #T_71d7e_row7_col14 {\n",
       "  background-color: #9a623e;\n",
       "  color: #f1f1f1;\n",
       "}\n",
       "#T_71d7e_row7_col0 {\n",
       "  background-color: #583723;\n",
       "  color: #f1f1f1;\n",
       "}\n",
       "#T_71d7e_row7_col9 {\n",
       "  background-color: #ffc07a;\n",
       "  color: #000000;\n",
       "}\n",
       "#T_71d7e_row7_col10 {\n",
       "  background-color: #2e1d12;\n",
       "  color: #f1f1f1;\n",
       "}\n",
       "#T_71d7e_row8_col0 {\n",
       "  background-color: #e8935e;\n",
       "  color: #f1f1f1;\n",
       "}\n",
       "#T_71d7e_row8_col9 {\n",
       "  background-color: #3d2618;\n",
       "  color: #f1f1f1;\n",
       "}\n",
       "#T_71d7e_row8_col10 {\n",
       "  background-color: #945e3c;\n",
       "  color: #f1f1f1;\n",
       "}\n",
       "#T_71d7e_row8_col11 {\n",
       "  background-color: #0f0906;\n",
       "  color: #f1f1f1;\n",
       "}\n",
       "#T_71d7e_row8_col14 {\n",
       "  background-color: #452c1c;\n",
       "  color: #f1f1f1;\n",
       "}\n",
       "#T_71d7e_row9_col0 {\n",
       "  background-color: #ee9760;\n",
       "  color: #000000;\n",
       "}\n",
       "#T_71d7e_row9_col11 {\n",
       "  background-color: #563723;\n",
       "  color: #f1f1f1;\n",
       "}\n",
       "#T_71d7e_row9_col12 {\n",
       "  background-color: #533421;\n",
       "  color: #f1f1f1;\n",
       "}\n",
       "</style>\n",
       "<table id=\"T_71d7e\">\n",
       "  <thead>\n",
       "    <tr>\n",
       "      <th class=\"blank level0\" >&nbsp;</th>\n",
       "      <th id=\"T_71d7e_level0_col0\" class=\"col_heading level0 col0\" >age</th>\n",
       "      <th id=\"T_71d7e_level0_col1\" class=\"col_heading level0 col1\" >bp</th>\n",
       "      <th id=\"T_71d7e_level0_col2\" class=\"col_heading level0 col2\" >sg</th>\n",
       "      <th id=\"T_71d7e_level0_col3\" class=\"col_heading level0 col3\" >al</th>\n",
       "      <th id=\"T_71d7e_level0_col4\" class=\"col_heading level0 col4\" >su</th>\n",
       "      <th id=\"T_71d7e_level0_col5\" class=\"col_heading level0 col5\" >rbc</th>\n",
       "      <th id=\"T_71d7e_level0_col6\" class=\"col_heading level0 col6\" >pc</th>\n",
       "      <th id=\"T_71d7e_level0_col7\" class=\"col_heading level0 col7\" >pcc</th>\n",
       "      <th id=\"T_71d7e_level0_col8\" class=\"col_heading level0 col8\" >ba</th>\n",
       "      <th id=\"T_71d7e_level0_col9\" class=\"col_heading level0 col9\" >bgr</th>\n",
       "      <th id=\"T_71d7e_level0_col10\" class=\"col_heading level0 col10\" >bu</th>\n",
       "      <th id=\"T_71d7e_level0_col11\" class=\"col_heading level0 col11\" >sc</th>\n",
       "      <th id=\"T_71d7e_level0_col12\" class=\"col_heading level0 col12\" >sod</th>\n",
       "      <th id=\"T_71d7e_level0_col13\" class=\"col_heading level0 col13\" >pot</th>\n",
       "      <th id=\"T_71d7e_level0_col14\" class=\"col_heading level0 col14\" >hemo</th>\n",
       "      <th id=\"T_71d7e_level0_col15\" class=\"col_heading level0 col15\" >pcv</th>\n",
       "      <th id=\"T_71d7e_level0_col16\" class=\"col_heading level0 col16\" >wbcc</th>\n",
       "      <th id=\"T_71d7e_level0_col17\" class=\"col_heading level0 col17\" >rbcc</th>\n",
       "      <th id=\"T_71d7e_level0_col18\" class=\"col_heading level0 col18\" >htn</th>\n",
       "      <th id=\"T_71d7e_level0_col19\" class=\"col_heading level0 col19\" >dm</th>\n",
       "      <th id=\"T_71d7e_level0_col20\" class=\"col_heading level0 col20\" >cad</th>\n",
       "      <th id=\"T_71d7e_level0_col21\" class=\"col_heading level0 col21\" >appet</th>\n",
       "      <th id=\"T_71d7e_level0_col22\" class=\"col_heading level0 col22\" >pe</th>\n",
       "      <th id=\"T_71d7e_level0_col23\" class=\"col_heading level0 col23\" >ane</th>\n",
       "      <th id=\"T_71d7e_level0_col24\" class=\"col_heading level0 col24\" >class</th>\n",
       "    </tr>\n",
       "  </thead>\n",
       "  <tbody>\n",
       "    <tr>\n",
       "      <th id=\"T_71d7e_level0_row0\" class=\"row_heading level0 row0\" >0</th>\n",
       "      <td id=\"T_71d7e_row0_col0\" class=\"data row0 col0\" >48.000000</td>\n",
       "      <td id=\"T_71d7e_row0_col1\" class=\"data row0 col1\" >80.000000</td>\n",
       "      <td id=\"T_71d7e_row0_col2\" class=\"data row0 col2\" >1.020000</td>\n",
       "      <td id=\"T_71d7e_row0_col3\" class=\"data row0 col3\" >1.000000</td>\n",
       "      <td id=\"T_71d7e_row0_col4\" class=\"data row0 col4\" >0.000000</td>\n",
       "      <td id=\"T_71d7e_row0_col5\" class=\"data row0 col5\" >nan</td>\n",
       "      <td id=\"T_71d7e_row0_col6\" class=\"data row0 col6\" >normal</td>\n",
       "      <td id=\"T_71d7e_row0_col7\" class=\"data row0 col7\" >notpresent</td>\n",
       "      <td id=\"T_71d7e_row0_col8\" class=\"data row0 col8\" >notpresent</td>\n",
       "      <td id=\"T_71d7e_row0_col9\" class=\"data row0 col9\" >121.000000</td>\n",
       "      <td id=\"T_71d7e_row0_col10\" class=\"data row0 col10\" >36.000000</td>\n",
       "      <td id=\"T_71d7e_row0_col11\" class=\"data row0 col11\" >1.200000</td>\n",
       "      <td id=\"T_71d7e_row0_col12\" class=\"data row0 col12\" >nan</td>\n",
       "      <td id=\"T_71d7e_row0_col13\" class=\"data row0 col13\" >nan</td>\n",
       "      <td id=\"T_71d7e_row0_col14\" class=\"data row0 col14\" >15.400000</td>\n",
       "      <td id=\"T_71d7e_row0_col15\" class=\"data row0 col15\" >44</td>\n",
       "      <td id=\"T_71d7e_row0_col16\" class=\"data row0 col16\" >7800</td>\n",
       "      <td id=\"T_71d7e_row0_col17\" class=\"data row0 col17\" >5.2</td>\n",
       "      <td id=\"T_71d7e_row0_col18\" class=\"data row0 col18\" >yes</td>\n",
       "      <td id=\"T_71d7e_row0_col19\" class=\"data row0 col19\" >yes</td>\n",
       "      <td id=\"T_71d7e_row0_col20\" class=\"data row0 col20\" >no</td>\n",
       "      <td id=\"T_71d7e_row0_col21\" class=\"data row0 col21\" >good</td>\n",
       "      <td id=\"T_71d7e_row0_col22\" class=\"data row0 col22\" >no</td>\n",
       "      <td id=\"T_71d7e_row0_col23\" class=\"data row0 col23\" >no</td>\n",
       "      <td id=\"T_71d7e_row0_col24\" class=\"data row0 col24\" >ckd</td>\n",
       "    </tr>\n",
       "    <tr>\n",
       "      <th id=\"T_71d7e_level0_row1\" class=\"row_heading level0 row1\" >1</th>\n",
       "      <td id=\"T_71d7e_row1_col0\" class=\"data row1 col0\" >7.000000</td>\n",
       "      <td id=\"T_71d7e_row1_col1\" class=\"data row1 col1\" >50.000000</td>\n",
       "      <td id=\"T_71d7e_row1_col2\" class=\"data row1 col2\" >1.020000</td>\n",
       "      <td id=\"T_71d7e_row1_col3\" class=\"data row1 col3\" >4.000000</td>\n",
       "      <td id=\"T_71d7e_row1_col4\" class=\"data row1 col4\" >0.000000</td>\n",
       "      <td id=\"T_71d7e_row1_col5\" class=\"data row1 col5\" >nan</td>\n",
       "      <td id=\"T_71d7e_row1_col6\" class=\"data row1 col6\" >normal</td>\n",
       "      <td id=\"T_71d7e_row1_col7\" class=\"data row1 col7\" >notpresent</td>\n",
       "      <td id=\"T_71d7e_row1_col8\" class=\"data row1 col8\" >notpresent</td>\n",
       "      <td id=\"T_71d7e_row1_col9\" class=\"data row1 col9\" >nan</td>\n",
       "      <td id=\"T_71d7e_row1_col10\" class=\"data row1 col10\" >18.000000</td>\n",
       "      <td id=\"T_71d7e_row1_col11\" class=\"data row1 col11\" >0.800000</td>\n",
       "      <td id=\"T_71d7e_row1_col12\" class=\"data row1 col12\" >nan</td>\n",
       "      <td id=\"T_71d7e_row1_col13\" class=\"data row1 col13\" >nan</td>\n",
       "      <td id=\"T_71d7e_row1_col14\" class=\"data row1 col14\" >11.300000</td>\n",
       "      <td id=\"T_71d7e_row1_col15\" class=\"data row1 col15\" >38</td>\n",
       "      <td id=\"T_71d7e_row1_col16\" class=\"data row1 col16\" >6000</td>\n",
       "      <td id=\"T_71d7e_row1_col17\" class=\"data row1 col17\" >nan</td>\n",
       "      <td id=\"T_71d7e_row1_col18\" class=\"data row1 col18\" >no</td>\n",
       "      <td id=\"T_71d7e_row1_col19\" class=\"data row1 col19\" >no</td>\n",
       "      <td id=\"T_71d7e_row1_col20\" class=\"data row1 col20\" >no</td>\n",
       "      <td id=\"T_71d7e_row1_col21\" class=\"data row1 col21\" >good</td>\n",
       "      <td id=\"T_71d7e_row1_col22\" class=\"data row1 col22\" >no</td>\n",
       "      <td id=\"T_71d7e_row1_col23\" class=\"data row1 col23\" >no</td>\n",
       "      <td id=\"T_71d7e_row1_col24\" class=\"data row1 col24\" >ckd</td>\n",
       "    </tr>\n",
       "    <tr>\n",
       "      <th id=\"T_71d7e_level0_row2\" class=\"row_heading level0 row2\" >2</th>\n",
       "      <td id=\"T_71d7e_row2_col0\" class=\"data row2 col0\" >62.000000</td>\n",
       "      <td id=\"T_71d7e_row2_col1\" class=\"data row2 col1\" >80.000000</td>\n",
       "      <td id=\"T_71d7e_row2_col2\" class=\"data row2 col2\" >1.010000</td>\n",
       "      <td id=\"T_71d7e_row2_col3\" class=\"data row2 col3\" >2.000000</td>\n",
       "      <td id=\"T_71d7e_row2_col4\" class=\"data row2 col4\" >3.000000</td>\n",
       "      <td id=\"T_71d7e_row2_col5\" class=\"data row2 col5\" >normal</td>\n",
       "      <td id=\"T_71d7e_row2_col6\" class=\"data row2 col6\" >normal</td>\n",
       "      <td id=\"T_71d7e_row2_col7\" class=\"data row2 col7\" >notpresent</td>\n",
       "      <td id=\"T_71d7e_row2_col8\" class=\"data row2 col8\" >notpresent</td>\n",
       "      <td id=\"T_71d7e_row2_col9\" class=\"data row2 col9\" >423.000000</td>\n",
       "      <td id=\"T_71d7e_row2_col10\" class=\"data row2 col10\" >53.000000</td>\n",
       "      <td id=\"T_71d7e_row2_col11\" class=\"data row2 col11\" >1.800000</td>\n",
       "      <td id=\"T_71d7e_row2_col12\" class=\"data row2 col12\" >nan</td>\n",
       "      <td id=\"T_71d7e_row2_col13\" class=\"data row2 col13\" >nan</td>\n",
       "      <td id=\"T_71d7e_row2_col14\" class=\"data row2 col14\" >9.600000</td>\n",
       "      <td id=\"T_71d7e_row2_col15\" class=\"data row2 col15\" >31</td>\n",
       "      <td id=\"T_71d7e_row2_col16\" class=\"data row2 col16\" >7500</td>\n",
       "      <td id=\"T_71d7e_row2_col17\" class=\"data row2 col17\" >nan</td>\n",
       "      <td id=\"T_71d7e_row2_col18\" class=\"data row2 col18\" >no</td>\n",
       "      <td id=\"T_71d7e_row2_col19\" class=\"data row2 col19\" >yes</td>\n",
       "      <td id=\"T_71d7e_row2_col20\" class=\"data row2 col20\" >no</td>\n",
       "      <td id=\"T_71d7e_row2_col21\" class=\"data row2 col21\" >poor</td>\n",
       "      <td id=\"T_71d7e_row2_col22\" class=\"data row2 col22\" >no</td>\n",
       "      <td id=\"T_71d7e_row2_col23\" class=\"data row2 col23\" >yes</td>\n",
       "      <td id=\"T_71d7e_row2_col24\" class=\"data row2 col24\" >ckd</td>\n",
       "    </tr>\n",
       "    <tr>\n",
       "      <th id=\"T_71d7e_level0_row3\" class=\"row_heading level0 row3\" >3</th>\n",
       "      <td id=\"T_71d7e_row3_col0\" class=\"data row3 col0\" >48.000000</td>\n",
       "      <td id=\"T_71d7e_row3_col1\" class=\"data row3 col1\" >70.000000</td>\n",
       "      <td id=\"T_71d7e_row3_col2\" class=\"data row3 col2\" >1.005000</td>\n",
       "      <td id=\"T_71d7e_row3_col3\" class=\"data row3 col3\" >4.000000</td>\n",
       "      <td id=\"T_71d7e_row3_col4\" class=\"data row3 col4\" >0.000000</td>\n",
       "      <td id=\"T_71d7e_row3_col5\" class=\"data row3 col5\" >normal</td>\n",
       "      <td id=\"T_71d7e_row3_col6\" class=\"data row3 col6\" >abnormal</td>\n",
       "      <td id=\"T_71d7e_row3_col7\" class=\"data row3 col7\" >present</td>\n",
       "      <td id=\"T_71d7e_row3_col8\" class=\"data row3 col8\" >notpresent</td>\n",
       "      <td id=\"T_71d7e_row3_col9\" class=\"data row3 col9\" >117.000000</td>\n",
       "      <td id=\"T_71d7e_row3_col10\" class=\"data row3 col10\" >56.000000</td>\n",
       "      <td id=\"T_71d7e_row3_col11\" class=\"data row3 col11\" >3.800000</td>\n",
       "      <td id=\"T_71d7e_row3_col12\" class=\"data row3 col12\" >111.000000</td>\n",
       "      <td id=\"T_71d7e_row3_col13\" class=\"data row3 col13\" >2.500000</td>\n",
       "      <td id=\"T_71d7e_row3_col14\" class=\"data row3 col14\" >11.200000</td>\n",
       "      <td id=\"T_71d7e_row3_col15\" class=\"data row3 col15\" >32</td>\n",
       "      <td id=\"T_71d7e_row3_col16\" class=\"data row3 col16\" >6700</td>\n",
       "      <td id=\"T_71d7e_row3_col17\" class=\"data row3 col17\" >3.9</td>\n",
       "      <td id=\"T_71d7e_row3_col18\" class=\"data row3 col18\" >yes</td>\n",
       "      <td id=\"T_71d7e_row3_col19\" class=\"data row3 col19\" >no</td>\n",
       "      <td id=\"T_71d7e_row3_col20\" class=\"data row3 col20\" >no</td>\n",
       "      <td id=\"T_71d7e_row3_col21\" class=\"data row3 col21\" >poor</td>\n",
       "      <td id=\"T_71d7e_row3_col22\" class=\"data row3 col22\" >yes</td>\n",
       "      <td id=\"T_71d7e_row3_col23\" class=\"data row3 col23\" >yes</td>\n",
       "      <td id=\"T_71d7e_row3_col24\" class=\"data row3 col24\" >ckd</td>\n",
       "    </tr>\n",
       "    <tr>\n",
       "      <th id=\"T_71d7e_level0_row4\" class=\"row_heading level0 row4\" >4</th>\n",
       "      <td id=\"T_71d7e_row4_col0\" class=\"data row4 col0\" >51.000000</td>\n",
       "      <td id=\"T_71d7e_row4_col1\" class=\"data row4 col1\" >80.000000</td>\n",
       "      <td id=\"T_71d7e_row4_col2\" class=\"data row4 col2\" >1.010000</td>\n",
       "      <td id=\"T_71d7e_row4_col3\" class=\"data row4 col3\" >2.000000</td>\n",
       "      <td id=\"T_71d7e_row4_col4\" class=\"data row4 col4\" >0.000000</td>\n",
       "      <td id=\"T_71d7e_row4_col5\" class=\"data row4 col5\" >normal</td>\n",
       "      <td id=\"T_71d7e_row4_col6\" class=\"data row4 col6\" >normal</td>\n",
       "      <td id=\"T_71d7e_row4_col7\" class=\"data row4 col7\" >notpresent</td>\n",
       "      <td id=\"T_71d7e_row4_col8\" class=\"data row4 col8\" >notpresent</td>\n",
       "      <td id=\"T_71d7e_row4_col9\" class=\"data row4 col9\" >106.000000</td>\n",
       "      <td id=\"T_71d7e_row4_col10\" class=\"data row4 col10\" >26.000000</td>\n",
       "      <td id=\"T_71d7e_row4_col11\" class=\"data row4 col11\" >1.400000</td>\n",
       "      <td id=\"T_71d7e_row4_col12\" class=\"data row4 col12\" >nan</td>\n",
       "      <td id=\"T_71d7e_row4_col13\" class=\"data row4 col13\" >nan</td>\n",
       "      <td id=\"T_71d7e_row4_col14\" class=\"data row4 col14\" >11.600000</td>\n",
       "      <td id=\"T_71d7e_row4_col15\" class=\"data row4 col15\" >35</td>\n",
       "      <td id=\"T_71d7e_row4_col16\" class=\"data row4 col16\" >7300</td>\n",
       "      <td id=\"T_71d7e_row4_col17\" class=\"data row4 col17\" >4.6</td>\n",
       "      <td id=\"T_71d7e_row4_col18\" class=\"data row4 col18\" >no</td>\n",
       "      <td id=\"T_71d7e_row4_col19\" class=\"data row4 col19\" >no</td>\n",
       "      <td id=\"T_71d7e_row4_col20\" class=\"data row4 col20\" >no</td>\n",
       "      <td id=\"T_71d7e_row4_col21\" class=\"data row4 col21\" >good</td>\n",
       "      <td id=\"T_71d7e_row4_col22\" class=\"data row4 col22\" >no</td>\n",
       "      <td id=\"T_71d7e_row4_col23\" class=\"data row4 col23\" >no</td>\n",
       "      <td id=\"T_71d7e_row4_col24\" class=\"data row4 col24\" >ckd</td>\n",
       "    </tr>\n",
       "    <tr>\n",
       "      <th id=\"T_71d7e_level0_row5\" class=\"row_heading level0 row5\" >5</th>\n",
       "      <td id=\"T_71d7e_row5_col0\" class=\"data row5 col0\" >60.000000</td>\n",
       "      <td id=\"T_71d7e_row5_col1\" class=\"data row5 col1\" >90.000000</td>\n",
       "      <td id=\"T_71d7e_row5_col2\" class=\"data row5 col2\" >1.015000</td>\n",
       "      <td id=\"T_71d7e_row5_col3\" class=\"data row5 col3\" >3.000000</td>\n",
       "      <td id=\"T_71d7e_row5_col4\" class=\"data row5 col4\" >0.000000</td>\n",
       "      <td id=\"T_71d7e_row5_col5\" class=\"data row5 col5\" >nan</td>\n",
       "      <td id=\"T_71d7e_row5_col6\" class=\"data row5 col6\" >nan</td>\n",
       "      <td id=\"T_71d7e_row5_col7\" class=\"data row5 col7\" >notpresent</td>\n",
       "      <td id=\"T_71d7e_row5_col8\" class=\"data row5 col8\" >notpresent</td>\n",
       "      <td id=\"T_71d7e_row5_col9\" class=\"data row5 col9\" >74.000000</td>\n",
       "      <td id=\"T_71d7e_row5_col10\" class=\"data row5 col10\" >25.000000</td>\n",
       "      <td id=\"T_71d7e_row5_col11\" class=\"data row5 col11\" >1.100000</td>\n",
       "      <td id=\"T_71d7e_row5_col12\" class=\"data row5 col12\" >142.000000</td>\n",
       "      <td id=\"T_71d7e_row5_col13\" class=\"data row5 col13\" >3.200000</td>\n",
       "      <td id=\"T_71d7e_row5_col14\" class=\"data row5 col14\" >12.200000</td>\n",
       "      <td id=\"T_71d7e_row5_col15\" class=\"data row5 col15\" >39</td>\n",
       "      <td id=\"T_71d7e_row5_col16\" class=\"data row5 col16\" >7800</td>\n",
       "      <td id=\"T_71d7e_row5_col17\" class=\"data row5 col17\" >4.4</td>\n",
       "      <td id=\"T_71d7e_row5_col18\" class=\"data row5 col18\" >yes</td>\n",
       "      <td id=\"T_71d7e_row5_col19\" class=\"data row5 col19\" >yes</td>\n",
       "      <td id=\"T_71d7e_row5_col20\" class=\"data row5 col20\" >no</td>\n",
       "      <td id=\"T_71d7e_row5_col21\" class=\"data row5 col21\" >good</td>\n",
       "      <td id=\"T_71d7e_row5_col22\" class=\"data row5 col22\" >yes</td>\n",
       "      <td id=\"T_71d7e_row5_col23\" class=\"data row5 col23\" >no</td>\n",
       "      <td id=\"T_71d7e_row5_col24\" class=\"data row5 col24\" >ckd</td>\n",
       "    </tr>\n",
       "    <tr>\n",
       "      <th id=\"T_71d7e_level0_row6\" class=\"row_heading level0 row6\" >6</th>\n",
       "      <td id=\"T_71d7e_row6_col0\" class=\"data row6 col0\" >68.000000</td>\n",
       "      <td id=\"T_71d7e_row6_col1\" class=\"data row6 col1\" >70.000000</td>\n",
       "      <td id=\"T_71d7e_row6_col2\" class=\"data row6 col2\" >1.010000</td>\n",
       "      <td id=\"T_71d7e_row6_col3\" class=\"data row6 col3\" >0.000000</td>\n",
       "      <td id=\"T_71d7e_row6_col4\" class=\"data row6 col4\" >0.000000</td>\n",
       "      <td id=\"T_71d7e_row6_col5\" class=\"data row6 col5\" >nan</td>\n",
       "      <td id=\"T_71d7e_row6_col6\" class=\"data row6 col6\" >normal</td>\n",
       "      <td id=\"T_71d7e_row6_col7\" class=\"data row6 col7\" >notpresent</td>\n",
       "      <td id=\"T_71d7e_row6_col8\" class=\"data row6 col8\" >notpresent</td>\n",
       "      <td id=\"T_71d7e_row6_col9\" class=\"data row6 col9\" >100.000000</td>\n",
       "      <td id=\"T_71d7e_row6_col10\" class=\"data row6 col10\" >54.000000</td>\n",
       "      <td id=\"T_71d7e_row6_col11\" class=\"data row6 col11\" >24.000000</td>\n",
       "      <td id=\"T_71d7e_row6_col12\" class=\"data row6 col12\" >104.000000</td>\n",
       "      <td id=\"T_71d7e_row6_col13\" class=\"data row6 col13\" >4.000000</td>\n",
       "      <td id=\"T_71d7e_row6_col14\" class=\"data row6 col14\" >12.400000</td>\n",
       "      <td id=\"T_71d7e_row6_col15\" class=\"data row6 col15\" >36</td>\n",
       "      <td id=\"T_71d7e_row6_col16\" class=\"data row6 col16\" >nan</td>\n",
       "      <td id=\"T_71d7e_row6_col17\" class=\"data row6 col17\" >nan</td>\n",
       "      <td id=\"T_71d7e_row6_col18\" class=\"data row6 col18\" >no</td>\n",
       "      <td id=\"T_71d7e_row6_col19\" class=\"data row6 col19\" >no</td>\n",
       "      <td id=\"T_71d7e_row6_col20\" class=\"data row6 col20\" >no</td>\n",
       "      <td id=\"T_71d7e_row6_col21\" class=\"data row6 col21\" >good</td>\n",
       "      <td id=\"T_71d7e_row6_col22\" class=\"data row6 col22\" >no</td>\n",
       "      <td id=\"T_71d7e_row6_col23\" class=\"data row6 col23\" >no</td>\n",
       "      <td id=\"T_71d7e_row6_col24\" class=\"data row6 col24\" >ckd</td>\n",
       "    </tr>\n",
       "    <tr>\n",
       "      <th id=\"T_71d7e_level0_row7\" class=\"row_heading level0 row7\" >7</th>\n",
       "      <td id=\"T_71d7e_row7_col0\" class=\"data row7 col0\" >24.000000</td>\n",
       "      <td id=\"T_71d7e_row7_col1\" class=\"data row7 col1\" >nan</td>\n",
       "      <td id=\"T_71d7e_row7_col2\" class=\"data row7 col2\" >1.015000</td>\n",
       "      <td id=\"T_71d7e_row7_col3\" class=\"data row7 col3\" >2.000000</td>\n",
       "      <td id=\"T_71d7e_row7_col4\" class=\"data row7 col4\" >4.000000</td>\n",
       "      <td id=\"T_71d7e_row7_col5\" class=\"data row7 col5\" >normal</td>\n",
       "      <td id=\"T_71d7e_row7_col6\" class=\"data row7 col6\" >abnormal</td>\n",
       "      <td id=\"T_71d7e_row7_col7\" class=\"data row7 col7\" >notpresent</td>\n",
       "      <td id=\"T_71d7e_row7_col8\" class=\"data row7 col8\" >notpresent</td>\n",
       "      <td id=\"T_71d7e_row7_col9\" class=\"data row7 col9\" >410.000000</td>\n",
       "      <td id=\"T_71d7e_row7_col10\" class=\"data row7 col10\" >31.000000</td>\n",
       "      <td id=\"T_71d7e_row7_col11\" class=\"data row7 col11\" >1.100000</td>\n",
       "      <td id=\"T_71d7e_row7_col12\" class=\"data row7 col12\" >nan</td>\n",
       "      <td id=\"T_71d7e_row7_col13\" class=\"data row7 col13\" >nan</td>\n",
       "      <td id=\"T_71d7e_row7_col14\" class=\"data row7 col14\" >12.400000</td>\n",
       "      <td id=\"T_71d7e_row7_col15\" class=\"data row7 col15\" >44</td>\n",
       "      <td id=\"T_71d7e_row7_col16\" class=\"data row7 col16\" >6900</td>\n",
       "      <td id=\"T_71d7e_row7_col17\" class=\"data row7 col17\" >5</td>\n",
       "      <td id=\"T_71d7e_row7_col18\" class=\"data row7 col18\" >no</td>\n",
       "      <td id=\"T_71d7e_row7_col19\" class=\"data row7 col19\" >yes</td>\n",
       "      <td id=\"T_71d7e_row7_col20\" class=\"data row7 col20\" >no</td>\n",
       "      <td id=\"T_71d7e_row7_col21\" class=\"data row7 col21\" >good</td>\n",
       "      <td id=\"T_71d7e_row7_col22\" class=\"data row7 col22\" >yes</td>\n",
       "      <td id=\"T_71d7e_row7_col23\" class=\"data row7 col23\" >no</td>\n",
       "      <td id=\"T_71d7e_row7_col24\" class=\"data row7 col24\" >ckd</td>\n",
       "    </tr>\n",
       "    <tr>\n",
       "      <th id=\"T_71d7e_level0_row8\" class=\"row_heading level0 row8\" >8</th>\n",
       "      <td id=\"T_71d7e_row8_col0\" class=\"data row8 col0\" >52.000000</td>\n",
       "      <td id=\"T_71d7e_row8_col1\" class=\"data row8 col1\" >100.000000</td>\n",
       "      <td id=\"T_71d7e_row8_col2\" class=\"data row8 col2\" >1.015000</td>\n",
       "      <td id=\"T_71d7e_row8_col3\" class=\"data row8 col3\" >3.000000</td>\n",
       "      <td id=\"T_71d7e_row8_col4\" class=\"data row8 col4\" >0.000000</td>\n",
       "      <td id=\"T_71d7e_row8_col5\" class=\"data row8 col5\" >normal</td>\n",
       "      <td id=\"T_71d7e_row8_col6\" class=\"data row8 col6\" >abnormal</td>\n",
       "      <td id=\"T_71d7e_row8_col7\" class=\"data row8 col7\" >present</td>\n",
       "      <td id=\"T_71d7e_row8_col8\" class=\"data row8 col8\" >notpresent</td>\n",
       "      <td id=\"T_71d7e_row8_col9\" class=\"data row8 col9\" >138.000000</td>\n",
       "      <td id=\"T_71d7e_row8_col10\" class=\"data row8 col10\" >60.000000</td>\n",
       "      <td id=\"T_71d7e_row8_col11\" class=\"data row8 col11\" >1.900000</td>\n",
       "      <td id=\"T_71d7e_row8_col12\" class=\"data row8 col12\" >nan</td>\n",
       "      <td id=\"T_71d7e_row8_col13\" class=\"data row8 col13\" >nan</td>\n",
       "      <td id=\"T_71d7e_row8_col14\" class=\"data row8 col14\" >10.800000</td>\n",
       "      <td id=\"T_71d7e_row8_col15\" class=\"data row8 col15\" >33</td>\n",
       "      <td id=\"T_71d7e_row8_col16\" class=\"data row8 col16\" >9600</td>\n",
       "      <td id=\"T_71d7e_row8_col17\" class=\"data row8 col17\" >4</td>\n",
       "      <td id=\"T_71d7e_row8_col18\" class=\"data row8 col18\" >yes</td>\n",
       "      <td id=\"T_71d7e_row8_col19\" class=\"data row8 col19\" >yes</td>\n",
       "      <td id=\"T_71d7e_row8_col20\" class=\"data row8 col20\" >no</td>\n",
       "      <td id=\"T_71d7e_row8_col21\" class=\"data row8 col21\" >good</td>\n",
       "      <td id=\"T_71d7e_row8_col22\" class=\"data row8 col22\" >no</td>\n",
       "      <td id=\"T_71d7e_row8_col23\" class=\"data row8 col23\" >yes</td>\n",
       "      <td id=\"T_71d7e_row8_col24\" class=\"data row8 col24\" >ckd</td>\n",
       "    </tr>\n",
       "    <tr>\n",
       "      <th id=\"T_71d7e_level0_row9\" class=\"row_heading level0 row9\" >9</th>\n",
       "      <td id=\"T_71d7e_row9_col0\" class=\"data row9 col0\" >53.000000</td>\n",
       "      <td id=\"T_71d7e_row9_col1\" class=\"data row9 col1\" >90.000000</td>\n",
       "      <td id=\"T_71d7e_row9_col2\" class=\"data row9 col2\" >1.020000</td>\n",
       "      <td id=\"T_71d7e_row9_col3\" class=\"data row9 col3\" >2.000000</td>\n",
       "      <td id=\"T_71d7e_row9_col4\" class=\"data row9 col4\" >0.000000</td>\n",
       "      <td id=\"T_71d7e_row9_col5\" class=\"data row9 col5\" >abnormal</td>\n",
       "      <td id=\"T_71d7e_row9_col6\" class=\"data row9 col6\" >abnormal</td>\n",
       "      <td id=\"T_71d7e_row9_col7\" class=\"data row9 col7\" >present</td>\n",
       "      <td id=\"T_71d7e_row9_col8\" class=\"data row9 col8\" >notpresent</td>\n",
       "      <td id=\"T_71d7e_row9_col9\" class=\"data row9 col9\" >70.000000</td>\n",
       "      <td id=\"T_71d7e_row9_col10\" class=\"data row9 col10\" >107.000000</td>\n",
       "      <td id=\"T_71d7e_row9_col11\" class=\"data row9 col11\" >7.200000</td>\n",
       "      <td id=\"T_71d7e_row9_col12\" class=\"data row9 col12\" >114.000000</td>\n",
       "      <td id=\"T_71d7e_row9_col13\" class=\"data row9 col13\" >3.700000</td>\n",
       "      <td id=\"T_71d7e_row9_col14\" class=\"data row9 col14\" >9.500000</td>\n",
       "      <td id=\"T_71d7e_row9_col15\" class=\"data row9 col15\" >29</td>\n",
       "      <td id=\"T_71d7e_row9_col16\" class=\"data row9 col16\" >12100</td>\n",
       "      <td id=\"T_71d7e_row9_col17\" class=\"data row9 col17\" >3.7</td>\n",
       "      <td id=\"T_71d7e_row9_col18\" class=\"data row9 col18\" >yes</td>\n",
       "      <td id=\"T_71d7e_row9_col19\" class=\"data row9 col19\" >yes</td>\n",
       "      <td id=\"T_71d7e_row9_col20\" class=\"data row9 col20\" >no</td>\n",
       "      <td id=\"T_71d7e_row9_col21\" class=\"data row9 col21\" >poor</td>\n",
       "      <td id=\"T_71d7e_row9_col22\" class=\"data row9 col22\" >no</td>\n",
       "      <td id=\"T_71d7e_row9_col23\" class=\"data row9 col23\" >yes</td>\n",
       "      <td id=\"T_71d7e_row9_col24\" class=\"data row9 col24\" >ckd</td>\n",
       "    </tr>\n",
       "  </tbody>\n",
       "</table>\n"
      ],
      "text/plain": [
       "<pandas.io.formats.style.Styler at 0x20b01376d60>"
      ]
     },
     "execution_count": 3,
     "metadata": {},
     "output_type": "execute_result"
    }
   ],
   "source": [
    "data.head(10).style.background_gradient(cmap = 'copper')"
   ]
  },
  {
   "cell_type": "code",
   "execution_count": 4,
   "id": "45852322",
   "metadata": {
    "execution": {
     "iopub.execute_input": "2022-02-23T18:38:59.003353Z",
     "iopub.status.busy": "2022-02-23T18:38:59.003045Z",
     "iopub.status.idle": "2022-02-23T18:38:59.011016Z",
     "shell.execute_reply": "2022-02-23T18:38:59.009711Z",
     "shell.execute_reply.started": "2022-02-23T18:38:59.003319Z"
    }
   },
   "outputs": [
    {
     "data": {
      "text/plain": [
       "Index(['age', 'bp', 'sg', 'al', 'su', 'rbc', 'pc', 'pcc', 'ba', 'bgr', 'bu',\n",
       "       'sc', 'sod', 'pot', 'hemo', 'pcv', 'wbcc', 'rbcc', 'htn', 'dm', 'cad',\n",
       "       'appet', 'pe', 'ane', 'class'],\n",
       "      dtype='object')"
      ]
     },
     "execution_count": 4,
     "metadata": {},
     "output_type": "execute_result"
    }
   ],
   "source": [
    "data.columns"
   ]
  },
  {
   "cell_type": "code",
   "execution_count": 5,
   "id": "8778b512",
   "metadata": {
    "execution": {
     "iopub.execute_input": "2022-02-23T18:38:59.333113Z",
     "iopub.status.busy": "2022-02-23T18:38:59.332655Z",
     "iopub.status.idle": "2022-02-23T18:38:59.341067Z",
     "shell.execute_reply": "2022-02-23T18:38:59.340262Z",
     "shell.execute_reply.started": "2022-02-23T18:38:59.333079Z"
    }
   },
   "outputs": [],
   "source": [
    "#changing the data columns\n",
    "data.rename(columns={'bp': 'Dias_blood_pressure', 'sg': 'ur_specific_gravity','al':'ur_albumin','su':'ur_sugar','rbc':'red_blood_cells','pc':'ur_pus_cell','pcc':'ur_ pus_cell clumps','ba':'ur_bacteria','bgr':'blood glucose random','bu':'blood urea','sc':'serum creatinine','sod':'sodium','pot':'potassium','hemo':'hemoglobin','pcv':'packed cell volume','wbcc':'white blood cell count','rbcc':'red blood cell count','htn':'hypertension','dm':'diabetes','cad':'coronary artery disease','appet':'appetite','pe':'pedal edema','ane':'anemia','classification':'class'},inplace=True)"
   ]
  },
  {
   "cell_type": "code",
   "execution_count": 6,
   "id": "50cbd404",
   "metadata": {
    "execution": {
     "iopub.execute_input": "2022-02-23T18:38:59.560743Z",
     "iopub.status.busy": "2022-02-23T18:38:59.560404Z",
     "iopub.status.idle": "2022-02-23T18:38:59.577614Z",
     "shell.execute_reply": "2022-02-23T18:38:59.576777Z",
     "shell.execute_reply.started": "2022-02-23T18:38:59.560708Z"
    }
   },
   "outputs": [
    {
     "name": "stdout",
     "output_type": "stream",
     "text": [
      "<class 'pandas.core.frame.DataFrame'>\n",
      "RangeIndex: 400 entries, 0 to 399\n",
      "Data columns (total 25 columns):\n",
      " #   Column                   Non-Null Count  Dtype  \n",
      "---  ------                   --------------  -----  \n",
      " 0   age                      391 non-null    float64\n",
      " 1   Dias_blood_pressure      388 non-null    float64\n",
      " 2   ur_specific_gravity      353 non-null    float64\n",
      " 3   ur_albumin               354 non-null    float64\n",
      " 4   ur_sugar                 351 non-null    float64\n",
      " 5   red_blood_cells          248 non-null    object \n",
      " 6   ur_pus_cell              335 non-null    object \n",
      " 7   ur_ pus_cell clumps      396 non-null    object \n",
      " 8   ur_bacteria              396 non-null    object \n",
      " 9   blood glucose random     356 non-null    float64\n",
      " 10  blood urea               381 non-null    float64\n",
      " 11  serum creatinine         383 non-null    float64\n",
      " 12  sodium                   313 non-null    float64\n",
      " 13  potassium                312 non-null    float64\n",
      " 14  hemoglobin               348 non-null    float64\n",
      " 15  packed cell volume       330 non-null    object \n",
      " 16  white blood cell count   295 non-null    object \n",
      " 17  red blood cell count     270 non-null    object \n",
      " 18  hypertension             398 non-null    object \n",
      " 19  diabetes                 398 non-null    object \n",
      " 20  coronary artery disease  398 non-null    object \n",
      " 21  appetite                 399 non-null    object \n",
      " 22  pedal edema              399 non-null    object \n",
      " 23  anemia                   399 non-null    object \n",
      " 24  class                    400 non-null    object \n",
      "dtypes: float64(11), object(14)\n",
      "memory usage: 78.2+ KB\n"
     ]
    }
   ],
   "source": [
    "data.info()"
   ]
  },
  {
   "cell_type": "markdown",
   "id": "f8ff9b4f",
   "metadata": {},
   "source": [
    "\n",
    "**Dias_blood_pressure / hypertension:** The diastolic pressure, is the pressure in the arteries when the heart rests between beats. This is the time when the heart fills with blood and gets oxygen.\n",
    "This is what your diastolic blood pressure number means:\n",
    "- Normal: Lower than 80\n",
    "- Stage 1 hypertension: 80-89\n",
    "- Stage 2 hypertension: 90 or more\n",
    "- Hypertensive crisis: 120 or more.\n",
    "\n",
    "**ur_specific_gravity :** Urine specific gravity is a laboratory test that shows the concentration of all chemical particles in the urine.\n",
    "\n",
    "**ur_albumin :** The albumin urine test measures the amount of albumin in a urine sample.  Albuminuria is a sign of kidney disease and means that you have too much albumin in your urine. Albumin is a protein found in the blood. A healthy kidney doesn’t let albumin pass from the blood into the urine. A damaged kidney lets some albumin pass into the urine. The less albumin in your urine, the better.\n",
    "\n",
    "**ur_sugar :** The glucose urine test measures the amount of sugar (glucose) in a urine sample. The presence of glucose in the urine is called glycosuria or glucosuria. Glucose is not usually found in urine. If it is, further testing is needed.\n",
    "Normal glucose range in urine: 0 to 0.8 mmol/l (0 to 15 mg/dL)\n",
    "\n",
    "**red_blood_cells / red blood cell count :** Red blood cells are one of the major components of blood, along with white blood cells and platelets. Red blood cells help carry oxygen throughout the body. A high red blood cell count means the number of red blood cells in your bloodstream is higher than normal. Normal red blood cell counts are:\n",
    "- For men, 4.7 to 6.1 million red blood cells per microliter of blood\n",
    "- For women, 4.2 to 5.4 million red blood cells per microliter of blood\n",
    "- For children, 4.0 to 5.5 million red blood cells per microliter of blood\n",
    "\n",
    "**ur_pus_cell / ur_ pus_cell clumps:** Presence of pus cells in urine defined as pyuria is an important accompaniment of bacteriuria which may be asymptomatic or can indicate toward underlying urinary tract infection.\n",
    "\n",
    "**ur_bacteria :** Presence of bacteria in urine .\n",
    " \n",
    "**blood glucose random / diabetes:** Random glucose testing is a blood test done at a random  moment of the day to check glucose (sugar) levels.   values of 200 mg/dL or above can indicate diabetes.\n",
    " \n",
    "**blood urea :** A blood urea nitrogen (BUN) test measures the amount of nitrogen in your blood that comes from the waste product urea. Urea is made when protein is broken down in your body. Urea is made in the liver and passed out of your body in the urine. A BUN test is done to see how well your kidneys are working. In general, around 6 to 24 mg/dL (2.1 to 8.5 mmol/L) is considered normal. \n",
    "\n",
    "**serum creatinine :** Creatinine is a waste product that comes from the normal wear and tear on muscles of the body. Everyone has creatinine in their bloodstream. The normal level of creatinine depends on your age, race, gender, and body size. In general , a normal result is 0.7 to 1.3 mg/dL for men and 0.6 to 1.1 mg/dL for women.\n",
    " \n",
    "**sodium :**  A normal blood sodium level is between 135 and 145 milliequivalents per liter (mEq/L). Hyponatremia occurs when the sodium in your blood falls below 135 mEq/L.\n",
    "\n",
    "**potassium :** Normally, your blood potassium level is 3.6 to 5.2 millimoles per liter (mmol/L). A very low potassium level (less than 2.5 mmol/L ) can be life-threatening and requires urgent medical attention.\n",
    "\n",
    "**hemoglobin /  anemia :** A hemoglobin test measures the amount of hemoglobin in your blood. Hemoglobin is a protein in your red blood cells that carries oxygen to your body's organs and tissues and transports carbon dioxide from your organs and tissues back to your lungs. An Hb value less than 5.0 g/dL can lead to heart failure and death. The normal range for hemoglobin is:\n",
    "- For men, 13.5 to 17.5 grams per deciliter\n",
    "- For women, 12.0 to 15.5 grams per deciliter  \n",
    "Anything below that is considered a form of anemia.\n",
    "\n",
    "**packed cell volume :** The packed cell volume (PCV) is a measurement of the proportion of blood that is made up of cells. The value is expressed as a percentage or fraction of cells in blood. For example, a PCV of 40% means that there are 40 millilitres of cells in 100 millilitres of blood. Critical value are  <18% and >55% (for adults)\n",
    "\n",
    "**white blood cell count:** White blood cell count varies from person to person , the normal range is usually between 4,000 and 11,000 white blood cells per microlitre of blood. Anything below 4,000 is typically considered to be a low white blood cell count.\n",
    " \n",
    "**coronary artery disease :** The coronary arteries supply blood, oxygen and nutrients to your heart. Coronary artery disease develops when the coronary arteries become damaged or diseased. The damage may be caused by various factors (Smoking / High blood pressure /High cholesterol /Diabetes /sedentary lifestyle...)\n",
    " \n",
    "**appetit :** Appetite is the desire to eat food, sometimes due to hunger. A poor appetite is when your desire to eat is reduced. The medical term for a loss of appetite is anorexia. Any illness can reduce appetite. If the illness is treatable, the appetite should return when the condition is cured.\n",
    "\n",
    "**pedal edema :** Pedal edema causes an abnormal accumulation of fluid in the ankles, feet, and lower legs causing swelling of the feet and ankles. Two mechanisms can cause edema of the feet. two most commun causes are being overweight and standing or sitting for long periods.\n",
    " \n",
    " "
   ]
  },
  {
   "cell_type": "code",
   "execution_count": 7,
   "id": "294d08c1",
   "metadata": {},
   "outputs": [],
   "source": [
    "numeric_features = data.dtypes[data.dtypes != \"object\"].index\n",
    "categorical_features = data.dtypes[data.dtypes == \"object\"].index"
   ]
  },
  {
   "cell_type": "code",
   "execution_count": 8,
   "id": "3a23b5cc",
   "metadata": {},
   "outputs": [
    {
     "data": {
      "image/png": "[encoded data removed]",
      "text/plain": [
       "<Figure size 1440x1080 with 11 Axes>"
      ]
     },
     "metadata": {
      "needs_background": "light"
     },
     "output_type": "display_data"
    }
   ],
   "source": [
    "# checking numerical features distribution\n",
    "plt.figure(figsize = (20, 15))\n",
    "plotnumber = 1\n",
    "for column in numeric_features:\n",
    "    if plotnumber <= 16:\n",
    "        ax = plt.subplot(3, 5, plotnumber)\n",
    "        sns.histplot (data[column],color='violet',kde=True, stat=\"density\", linewidth=0)\n",
    "        plt.xlabel(column)\n",
    "    \n",
    "        \n",
    "    plotnumber += 1\n",
    "\n",
    "plt.tight_layout()\n",
    "plt.show()"
   ]
  },
  {
   "cell_type": "code",
   "execution_count": 9,
   "id": "e65cf57c",
   "metadata": {},
   "outputs": [
    {
     "data": {
      "text/plain": [
       "Index(['red_blood_cells', 'ur_pus_cell', 'ur_ pus_cell clumps', 'ur_bacteria',\n",
       "       'packed cell volume', 'white blood cell count', 'red blood cell count',\n",
       "       'hypertension', 'diabetes', 'coronary artery disease', 'appetite',\n",
       "       'pedal edema', 'anemia', 'class'],\n",
       "      dtype='object')"
      ]
     },
     "execution_count": 9,
     "metadata": {},
     "output_type": "execute_result"
    }
   ],
   "source": [
    "categorical_features"
   ]
  },
  {
   "cell_type": "code",
   "execution_count": 10,
   "id": "f30934de",
   "metadata": {},
   "outputs": [
    {
     "data": {
      "image/png": "[encoded data removed]",
      "text/plain": [
       "<Figure size 1440x1080 with 11 Axes>"
      ]
     },
     "metadata": {
      "needs_background": "light"
     },
     "output_type": "display_data"
    }
   ],
   "source": [
    "# looking at categorical columns\n",
    "\n",
    "plt.figure(figsize = (20, 15))\n",
    "plotnumber = 1\n",
    "for column in categorical_features:\n",
    "    if plotnumber <= 11:\n",
    "        ax = plt.subplot(3, 4, plotnumber)\n",
    "        sns.countplot(x = data[column], palette = 'rocket',color='black')\n",
    "        plt.xlabel(column)        \n",
    "    plotnumber += 1\n",
    "plt.tight_layout()\n",
    "plt.show()"
   ]
  },
  {
   "cell_type": "code",
   "execution_count": 11,
   "id": "7200d8b6",
   "metadata": {
    "execution": {
     "iopub.execute_input": "2022-02-23T18:38:59.917457Z",
     "iopub.status.busy": "2022-02-23T18:38:59.916605Z",
     "iopub.status.idle": "2022-02-23T18:38:59.928608Z",
     "shell.execute_reply": "2022-02-23T18:38:59.927363Z",
     "shell.execute_reply.started": "2022-02-23T18:38:59.917409Z"
    },
    "scrolled": true
   },
   "outputs": [
    {
     "data": {
      "text/plain": [
       "age                          9\n",
       "Dias_blood_pressure         12\n",
       "ur_specific_gravity         47\n",
       "ur_albumin                  46\n",
       "ur_sugar                    49\n",
       "red_blood_cells            152\n",
       "ur_pus_cell                 65\n",
       "ur_ pus_cell clumps          4\n",
       "ur_bacteria                  4\n",
       "blood glucose random        44\n",
       "blood urea                  19\n",
       "serum creatinine            17\n",
       "sodium                      87\n",
       "potassium                   88\n",
       "hemoglobin                  52\n",
       "packed cell volume          70\n",
       "white blood cell count     105\n",
       "red blood cell count       130\n",
       "hypertension                 2\n",
       "diabetes                     2\n",
       "coronary artery disease      2\n",
       "appetite                     1\n",
       "pedal edema                  1\n",
       "anemia                       1\n",
       "class                        0\n",
       "dtype: int64"
      ]
     },
     "execution_count": 11,
     "metadata": {},
     "output_type": "execute_result"
    }
   ],
   "source": [
    "#Checking for missing values\n",
    "data.isnull().sum()"
   ]
  },
  {
   "cell_type": "markdown",
   "id": "4c77073c",
   "metadata": {},
   "source": [
    "## 1 . Data cleaning : "
   ]
  },
  {
   "cell_type": "markdown",
   "id": "80416638",
   "metadata": {},
   "source": [
    "**we have a lot of missing values in this dataframe , let's inspect the data to try to fill them with the suiting values**"
   ]
  },
  {
   "cell_type": "code",
   "execution_count": 12,
   "id": "9f7877f0",
   "metadata": {
    "execution": {
     "iopub.execute_input": "2022-02-23T18:39:01.152708Z",
     "iopub.status.busy": "2022-02-23T18:39:01.151896Z",
     "iopub.status.idle": "2022-02-23T18:39:01.178737Z",
     "shell.execute_reply": "2022-02-23T18:39:01.17761Z",
     "shell.execute_reply.started": "2022-02-23T18:39:01.152662Z"
    }
   },
   "outputs": [
    {
     "data": {
      "text/html": [
       "<div>\n",
       "<style scoped>\n",
       "    .dataframe tbody tr th:only-of-type {\n",
       "        vertical-align: middle;\n",
       "    }\n",
       "\n",
       "    .dataframe tbody tr th {\n",
       "        vertical-align: top;\n",
       "    }\n",
       "\n",
       "    .dataframe thead th {\n",
       "        text-align: right;\n",
       "    }\n",
       "</style>\n",
       "<table border=\"1\" class=\"dataframe\">\n",
       "  <thead>\n",
       "    <tr style=\"text-align: right;\">\n",
       "      <th></th>\n",
       "      <th>390</th>\n",
       "      <th>391</th>\n",
       "      <th>392</th>\n",
       "      <th>393</th>\n",
       "      <th>394</th>\n",
       "      <th>395</th>\n",
       "      <th>396</th>\n",
       "      <th>397</th>\n",
       "      <th>398</th>\n",
       "      <th>399</th>\n",
       "    </tr>\n",
       "  </thead>\n",
       "  <tbody>\n",
       "    <tr>\n",
       "      <th>age</th>\n",
       "      <td>52.0</td>\n",
       "      <td>36.0</td>\n",
       "      <td>57.0</td>\n",
       "      <td>43.0</td>\n",
       "      <td>50.0</td>\n",
       "      <td>55.0</td>\n",
       "      <td>42.0</td>\n",
       "      <td>12.0</td>\n",
       "      <td>17.0</td>\n",
       "      <td>58.0</td>\n",
       "    </tr>\n",
       "    <tr>\n",
       "      <th>Dias_blood_pressure</th>\n",
       "      <td>80.0</td>\n",
       "      <td>80.0</td>\n",
       "      <td>80.0</td>\n",
       "      <td>60.0</td>\n",
       "      <td>80.0</td>\n",
       "      <td>80.0</td>\n",
       "      <td>70.0</td>\n",
       "      <td>80.0</td>\n",
       "      <td>60.0</td>\n",
       "      <td>80.0</td>\n",
       "    </tr>\n",
       "    <tr>\n",
       "      <th>ur_specific_gravity</th>\n",
       "      <td>1.025</td>\n",
       "      <td>1.025</td>\n",
       "      <td>1.02</td>\n",
       "      <td>1.025</td>\n",
       "      <td>1.02</td>\n",
       "      <td>1.02</td>\n",
       "      <td>1.025</td>\n",
       "      <td>1.02</td>\n",
       "      <td>1.025</td>\n",
       "      <td>1.025</td>\n",
       "    </tr>\n",
       "    <tr>\n",
       "      <th>ur_albumin</th>\n",
       "      <td>0.0</td>\n",
       "      <td>0.0</td>\n",
       "      <td>0.0</td>\n",
       "      <td>0.0</td>\n",
       "      <td>0.0</td>\n",
       "      <td>0.0</td>\n",
       "      <td>0.0</td>\n",
       "      <td>0.0</td>\n",
       "      <td>0.0</td>\n",
       "      <td>0.0</td>\n",
       "    </tr>\n",
       "    <tr>\n",
       "      <th>ur_sugar</th>\n",
       "      <td>0.0</td>\n",
       "      <td>0.0</td>\n",
       "      <td>0.0</td>\n",
       "      <td>0.0</td>\n",
       "      <td>0.0</td>\n",
       "      <td>0.0</td>\n",
       "      <td>0.0</td>\n",
       "      <td>0.0</td>\n",
       "      <td>0.0</td>\n",
       "      <td>0.0</td>\n",
       "    </tr>\n",
       "    <tr>\n",
       "      <th>red_blood_cells</th>\n",
       "      <td>normal</td>\n",
       "      <td>normal</td>\n",
       "      <td>normal</td>\n",
       "      <td>normal</td>\n",
       "      <td>normal</td>\n",
       "      <td>normal</td>\n",
       "      <td>normal</td>\n",
       "      <td>normal</td>\n",
       "      <td>normal</td>\n",
       "      <td>normal</td>\n",
       "    </tr>\n",
       "    <tr>\n",
       "      <th>ur_pus_cell</th>\n",
       "      <td>normal</td>\n",
       "      <td>normal</td>\n",
       "      <td>normal</td>\n",
       "      <td>normal</td>\n",
       "      <td>normal</td>\n",
       "      <td>normal</td>\n",
       "      <td>normal</td>\n",
       "      <td>normal</td>\n",
       "      <td>normal</td>\n",
       "      <td>normal</td>\n",
       "    </tr>\n",
       "    <tr>\n",
       "      <th>ur_ pus_cell clumps</th>\n",
       "      <td>notpresent</td>\n",
       "      <td>notpresent</td>\n",
       "      <td>notpresent</td>\n",
       "      <td>notpresent</td>\n",
       "      <td>notpresent</td>\n",
       "      <td>notpresent</td>\n",
       "      <td>notpresent</td>\n",
       "      <td>notpresent</td>\n",
       "      <td>notpresent</td>\n",
       "      <td>notpresent</td>\n",
       "    </tr>\n",
       "    <tr>\n",
       "      <th>ur_bacteria</th>\n",
       "      <td>notpresent</td>\n",
       "      <td>notpresent</td>\n",
       "      <td>notpresent</td>\n",
       "      <td>notpresent</td>\n",
       "      <td>notpresent</td>\n",
       "      <td>notpresent</td>\n",
       "      <td>notpresent</td>\n",
       "      <td>notpresent</td>\n",
       "      <td>notpresent</td>\n",
       "      <td>notpresent</td>\n",
       "    </tr>\n",
       "    <tr>\n",
       "      <th>blood glucose random</th>\n",
       "      <td>99.0</td>\n",
       "      <td>85.0</td>\n",
       "      <td>133.0</td>\n",
       "      <td>117.0</td>\n",
       "      <td>137.0</td>\n",
       "      <td>140.0</td>\n",
       "      <td>75.0</td>\n",
       "      <td>100.0</td>\n",
       "      <td>114.0</td>\n",
       "      <td>131.0</td>\n",
       "    </tr>\n",
       "    <tr>\n",
       "      <th>blood urea</th>\n",
       "      <td>25.0</td>\n",
       "      <td>16.0</td>\n",
       "      <td>48.0</td>\n",
       "      <td>45.0</td>\n",
       "      <td>46.0</td>\n",
       "      <td>49.0</td>\n",
       "      <td>31.0</td>\n",
       "      <td>26.0</td>\n",
       "      <td>50.0</td>\n",
       "      <td>18.0</td>\n",
       "    </tr>\n",
       "    <tr>\n",
       "      <th>serum creatinine</th>\n",
       "      <td>0.8</td>\n",
       "      <td>1.1</td>\n",
       "      <td>1.2</td>\n",
       "      <td>0.7</td>\n",
       "      <td>0.8</td>\n",
       "      <td>0.5</td>\n",
       "      <td>1.2</td>\n",
       "      <td>0.6</td>\n",
       "      <td>1.0</td>\n",
       "      <td>1.1</td>\n",
       "    </tr>\n",
       "    <tr>\n",
       "      <th>sodium</th>\n",
       "      <td>135.0</td>\n",
       "      <td>142.0</td>\n",
       "      <td>147.0</td>\n",
       "      <td>141.0</td>\n",
       "      <td>139.0</td>\n",
       "      <td>150.0</td>\n",
       "      <td>141.0</td>\n",
       "      <td>137.0</td>\n",
       "      <td>135.0</td>\n",
       "      <td>141.0</td>\n",
       "    </tr>\n",
       "    <tr>\n",
       "      <th>potassium</th>\n",
       "      <td>3.7</td>\n",
       "      <td>4.1</td>\n",
       "      <td>4.3</td>\n",
       "      <td>4.4</td>\n",
       "      <td>5.0</td>\n",
       "      <td>4.9</td>\n",
       "      <td>3.5</td>\n",
       "      <td>4.4</td>\n",
       "      <td>4.9</td>\n",
       "      <td>3.5</td>\n",
       "    </tr>\n",
       "    <tr>\n",
       "      <th>hemoglobin</th>\n",
       "      <td>15.0</td>\n",
       "      <td>15.6</td>\n",
       "      <td>14.8</td>\n",
       "      <td>13.0</td>\n",
       "      <td>14.1</td>\n",
       "      <td>15.7</td>\n",
       "      <td>16.5</td>\n",
       "      <td>15.8</td>\n",
       "      <td>14.2</td>\n",
       "      <td>15.8</td>\n",
       "    </tr>\n",
       "    <tr>\n",
       "      <th>packed cell volume</th>\n",
       "      <td>52</td>\n",
       "      <td>44</td>\n",
       "      <td>46</td>\n",
       "      <td>54</td>\n",
       "      <td>45</td>\n",
       "      <td>47</td>\n",
       "      <td>54</td>\n",
       "      <td>49</td>\n",
       "      <td>51</td>\n",
       "      <td>53</td>\n",
       "    </tr>\n",
       "    <tr>\n",
       "      <th>white blood cell count</th>\n",
       "      <td>6300</td>\n",
       "      <td>5800</td>\n",
       "      <td>6600</td>\n",
       "      <td>7400</td>\n",
       "      <td>9500</td>\n",
       "      <td>6700</td>\n",
       "      <td>7800</td>\n",
       "      <td>6600</td>\n",
       "      <td>7200</td>\n",
       "      <td>6800</td>\n",
       "    </tr>\n",
       "    <tr>\n",
       "      <th>red blood cell count</th>\n",
       "      <td>5.3</td>\n",
       "      <td>6.3</td>\n",
       "      <td>5.5</td>\n",
       "      <td>5.4</td>\n",
       "      <td>4.6</td>\n",
       "      <td>4.9</td>\n",
       "      <td>6.2</td>\n",
       "      <td>5.4</td>\n",
       "      <td>5.9</td>\n",
       "      <td>6.1</td>\n",
       "    </tr>\n",
       "    <tr>\n",
       "      <th>hypertension</th>\n",
       "      <td>no</td>\n",
       "      <td>no</td>\n",
       "      <td>no</td>\n",
       "      <td>no</td>\n",
       "      <td>no</td>\n",
       "      <td>no</td>\n",
       "      <td>no</td>\n",
       "      <td>no</td>\n",
       "      <td>no</td>\n",
       "      <td>no</td>\n",
       "    </tr>\n",
       "    <tr>\n",
       "      <th>diabetes</th>\n",
       "      <td>no</td>\n",
       "      <td>no</td>\n",
       "      <td>no</td>\n",
       "      <td>no</td>\n",
       "      <td>no</td>\n",
       "      <td>no</td>\n",
       "      <td>no</td>\n",
       "      <td>no</td>\n",
       "      <td>no</td>\n",
       "      <td>no</td>\n",
       "    </tr>\n",
       "    <tr>\n",
       "      <th>coronary artery disease</th>\n",
       "      <td>no</td>\n",
       "      <td>no</td>\n",
       "      <td>no</td>\n",
       "      <td>no</td>\n",
       "      <td>no</td>\n",
       "      <td>no</td>\n",
       "      <td>no</td>\n",
       "      <td>no</td>\n",
       "      <td>no</td>\n",
       "      <td>no</td>\n",
       "    </tr>\n",
       "    <tr>\n",
       "      <th>appetite</th>\n",
       "      <td>good</td>\n",
       "      <td>good</td>\n",
       "      <td>good</td>\n",
       "      <td>good</td>\n",
       "      <td>good</td>\n",
       "      <td>good</td>\n",
       "      <td>good</td>\n",
       "      <td>good</td>\n",
       "      <td>good</td>\n",
       "      <td>good</td>\n",
       "    </tr>\n",
       "    <tr>\n",
       "      <th>pedal edema</th>\n",
       "      <td>no</td>\n",
       "      <td>no</td>\n",
       "      <td>no</td>\n",
       "      <td>no</td>\n",
       "      <td>no</td>\n",
       "      <td>no</td>\n",
       "      <td>no</td>\n",
       "      <td>no</td>\n",
       "      <td>no</td>\n",
       "      <td>no</td>\n",
       "    </tr>\n",
       "    <tr>\n",
       "      <th>anemia</th>\n",
       "      <td>no</td>\n",
       "      <td>no</td>\n",
       "      <td>no</td>\n",
       "      <td>no</td>\n",
       "      <td>no</td>\n",
       "      <td>no</td>\n",
       "      <td>no</td>\n",
       "      <td>no</td>\n",
       "      <td>no</td>\n",
       "      <td>no</td>\n",
       "    </tr>\n",
       "    <tr>\n",
       "      <th>class</th>\n",
       "      <td>notckd</td>\n",
       "      <td>notckd</td>\n",
       "      <td>notckd</td>\n",
       "      <td>notckd</td>\n",
       "      <td>notckd</td>\n",
       "      <td>notckd</td>\n",
       "      <td>notckd</td>\n",
       "      <td>notckd</td>\n",
       "      <td>notckd</td>\n",
       "      <td>notckd</td>\n",
       "    </tr>\n",
       "  </tbody>\n",
       "</table>\n",
       "</div>"
      ],
      "text/plain": [
       "                                390         391         392         393  \\\n",
       "age                            52.0        36.0        57.0        43.0   \n",
       "Dias_blood_pressure            80.0        80.0        80.0        60.0   \n",
       "ur_specific_gravity           1.025       1.025        1.02       1.025   \n",
       "ur_albumin                      0.0         0.0         0.0         0.0   \n",
       "ur_sugar                        0.0         0.0         0.0         0.0   \n",
       "red_blood_cells              normal      normal      normal      normal   \n",
       "ur_pus_cell                  normal      normal      normal      normal   \n",
       "ur_ pus_cell clumps      notpresent  notpresent  notpresent  notpresent   \n",
       "ur_bacteria              notpresent  notpresent  notpresent  notpresent   \n",
       "blood glucose random           99.0        85.0       133.0       117.0   \n",
       "blood urea                     25.0        16.0        48.0        45.0   \n",
       "serum creatinine                0.8         1.1         1.2         0.7   \n",
       "sodium                        135.0       142.0       147.0       141.0   \n",
       "potassium                       3.7         4.1         4.3         4.4   \n",
       "hemoglobin                     15.0        15.6        14.8        13.0   \n",
       "packed cell volume               52          44          46          54   \n",
       "white blood cell count         6300        5800        6600        7400   \n",
       "red blood cell count            5.3         6.3         5.5         5.4   \n",
       "hypertension                     no          no          no          no   \n",
       "diabetes                         no          no          no          no   \n",
       "coronary artery disease          no          no          no          no   \n",
       "appetite                       good        good        good        good   \n",
       "pedal edema                      no          no          no          no   \n",
       "anemia                           no          no          no          no   \n",
       "class                        notckd      notckd      notckd      notckd   \n",
       "\n",
       "                                394         395         396         397  \\\n",
       "age                            50.0        55.0        42.0        12.0   \n",
       "Dias_blood_pressure            80.0        80.0        70.0        80.0   \n",
       "ur_specific_gravity            1.02        1.02       1.025        1.02   \n",
       "ur_albumin                      0.0         0.0         0.0         0.0   \n",
       "ur_sugar                        0.0         0.0         0.0         0.0   \n",
       "red_blood_cells              normal      normal      normal      normal   \n",
       "ur_pus_cell                  normal      normal      normal      normal   \n",
       "ur_ pus_cell clumps      notpresent  notpresent  notpresent  notpresent   \n",
       "ur_bacteria              notpresent  notpresent  notpresent  notpresent   \n",
       "blood glucose random          137.0       140.0        75.0       100.0   \n",
       "blood urea                     46.0        49.0        31.0        26.0   \n",
       "serum creatinine                0.8         0.5         1.2         0.6   \n",
       "sodium                        139.0       150.0       141.0       137.0   \n",
       "potassium                       5.0         4.9         3.5         4.4   \n",
       "hemoglobin                     14.1        15.7        16.5        15.8   \n",
       "packed cell volume               45          47          54          49   \n",
       "white blood cell count         9500        6700        7800        6600   \n",
       "red blood cell count            4.6         4.9         6.2         5.4   \n",
       "hypertension                     no          no          no          no   \n",
       "diabetes                         no          no          no          no   \n",
       "coronary artery disease          no          no          no          no   \n",
       "appetite                       good        good        good        good   \n",
       "pedal edema                      no          no          no          no   \n",
       "anemia                           no          no          no          no   \n",
       "class                        notckd      notckd      notckd      notckd   \n",
       "\n",
       "                                398         399  \n",
       "age                            17.0        58.0  \n",
       "Dias_blood_pressure            60.0        80.0  \n",
       "ur_specific_gravity           1.025       1.025  \n",
       "ur_albumin                      0.0         0.0  \n",
       "ur_sugar                        0.0         0.0  \n",
       "red_blood_cells              normal      normal  \n",
       "ur_pus_cell                  normal      normal  \n",
       "ur_ pus_cell clumps      notpresent  notpresent  \n",
       "ur_bacteria              notpresent  notpresent  \n",
       "blood glucose random          114.0       131.0  \n",
       "blood urea                     50.0        18.0  \n",
       "serum creatinine                1.0         1.1  \n",
       "sodium                        135.0       141.0  \n",
       "potassium                       4.9         3.5  \n",
       "hemoglobin                     14.2        15.8  \n",
       "packed cell volume               51          53  \n",
       "white blood cell count         7200        6800  \n",
       "red blood cell count            5.9         6.1  \n",
       "hypertension                     no          no  \n",
       "diabetes                         no          no  \n",
       "coronary artery disease          no          no  \n",
       "appetite                       good        good  \n",
       "pedal edema                      no          no  \n",
       "anemia                           no          no  \n",
       "class                        notckd      notckd  "
      ]
     },
     "execution_count": 12,
     "metadata": {},
     "output_type": "execute_result"
    }
   ],
   "source": [
    "data.tail(10).T"
   ]
  },
  {
   "cell_type": "code",
   "execution_count": 13,
   "id": "cb5a1cc1",
   "metadata": {
    "execution": {
     "iopub.execute_input": "2022-02-23T18:39:01.412177Z",
     "iopub.status.busy": "2022-02-23T18:39:01.411892Z",
     "iopub.status.idle": "2022-02-23T18:39:01.459008Z",
     "shell.execute_reply": "2022-02-23T18:39:01.457935Z",
     "shell.execute_reply.started": "2022-02-23T18:39:01.412148Z"
    }
   },
   "outputs": [
    {
     "data": {
      "text/html": [
       "<div>\n",
       "<style scoped>\n",
       "    .dataframe tbody tr th:only-of-type {\n",
       "        vertical-align: middle;\n",
       "    }\n",
       "\n",
       "    .dataframe tbody tr th {\n",
       "        vertical-align: top;\n",
       "    }\n",
       "\n",
       "    .dataframe thead th {\n",
       "        text-align: right;\n",
       "    }\n",
       "</style>\n",
       "<table border=\"1\" class=\"dataframe\">\n",
       "  <thead>\n",
       "    <tr style=\"text-align: right;\">\n",
       "      <th></th>\n",
       "      <th>count</th>\n",
       "      <th>mean</th>\n",
       "      <th>std</th>\n",
       "      <th>min</th>\n",
       "      <th>25%</th>\n",
       "      <th>50%</th>\n",
       "      <th>75%</th>\n",
       "      <th>max</th>\n",
       "    </tr>\n",
       "  </thead>\n",
       "  <tbody>\n",
       "    <tr>\n",
       "      <th>age</th>\n",
       "      <td>391.0</td>\n",
       "      <td>51.483376</td>\n",
       "      <td>17.169714</td>\n",
       "      <td>2.000</td>\n",
       "      <td>42.00</td>\n",
       "      <td>55.00</td>\n",
       "      <td>64.50</td>\n",
       "      <td>90.000</td>\n",
       "    </tr>\n",
       "    <tr>\n",
       "      <th>Dias_blood_pressure</th>\n",
       "      <td>388.0</td>\n",
       "      <td>76.469072</td>\n",
       "      <td>13.683637</td>\n",
       "      <td>50.000</td>\n",
       "      <td>70.00</td>\n",
       "      <td>80.00</td>\n",
       "      <td>80.00</td>\n",
       "      <td>180.000</td>\n",
       "    </tr>\n",
       "    <tr>\n",
       "      <th>ur_specific_gravity</th>\n",
       "      <td>353.0</td>\n",
       "      <td>1.017408</td>\n",
       "      <td>0.005717</td>\n",
       "      <td>1.005</td>\n",
       "      <td>1.01</td>\n",
       "      <td>1.02</td>\n",
       "      <td>1.02</td>\n",
       "      <td>1.025</td>\n",
       "    </tr>\n",
       "    <tr>\n",
       "      <th>ur_albumin</th>\n",
       "      <td>354.0</td>\n",
       "      <td>1.016949</td>\n",
       "      <td>1.352679</td>\n",
       "      <td>0.000</td>\n",
       "      <td>0.00</td>\n",
       "      <td>0.00</td>\n",
       "      <td>2.00</td>\n",
       "      <td>5.000</td>\n",
       "    </tr>\n",
       "    <tr>\n",
       "      <th>ur_sugar</th>\n",
       "      <td>351.0</td>\n",
       "      <td>0.450142</td>\n",
       "      <td>1.099191</td>\n",
       "      <td>0.000</td>\n",
       "      <td>0.00</td>\n",
       "      <td>0.00</td>\n",
       "      <td>0.00</td>\n",
       "      <td>5.000</td>\n",
       "    </tr>\n",
       "    <tr>\n",
       "      <th>blood glucose random</th>\n",
       "      <td>356.0</td>\n",
       "      <td>148.036517</td>\n",
       "      <td>79.281714</td>\n",
       "      <td>22.000</td>\n",
       "      <td>99.00</td>\n",
       "      <td>121.00</td>\n",
       "      <td>163.00</td>\n",
       "      <td>490.000</td>\n",
       "    </tr>\n",
       "    <tr>\n",
       "      <th>blood urea</th>\n",
       "      <td>381.0</td>\n",
       "      <td>57.425722</td>\n",
       "      <td>50.503006</td>\n",
       "      <td>1.500</td>\n",
       "      <td>27.00</td>\n",
       "      <td>42.00</td>\n",
       "      <td>66.00</td>\n",
       "      <td>391.000</td>\n",
       "    </tr>\n",
       "    <tr>\n",
       "      <th>serum creatinine</th>\n",
       "      <td>383.0</td>\n",
       "      <td>3.072454</td>\n",
       "      <td>5.741126</td>\n",
       "      <td>0.400</td>\n",
       "      <td>0.90</td>\n",
       "      <td>1.30</td>\n",
       "      <td>2.80</td>\n",
       "      <td>76.000</td>\n",
       "    </tr>\n",
       "    <tr>\n",
       "      <th>sodium</th>\n",
       "      <td>313.0</td>\n",
       "      <td>137.528754</td>\n",
       "      <td>10.408752</td>\n",
       "      <td>4.500</td>\n",
       "      <td>135.00</td>\n",
       "      <td>138.00</td>\n",
       "      <td>142.00</td>\n",
       "      <td>163.000</td>\n",
       "    </tr>\n",
       "    <tr>\n",
       "      <th>potassium</th>\n",
       "      <td>312.0</td>\n",
       "      <td>4.627244</td>\n",
       "      <td>3.193904</td>\n",
       "      <td>2.500</td>\n",
       "      <td>3.80</td>\n",
       "      <td>4.40</td>\n",
       "      <td>4.90</td>\n",
       "      <td>47.000</td>\n",
       "    </tr>\n",
       "    <tr>\n",
       "      <th>hemoglobin</th>\n",
       "      <td>348.0</td>\n",
       "      <td>12.526437</td>\n",
       "      <td>2.912587</td>\n",
       "      <td>3.100</td>\n",
       "      <td>10.30</td>\n",
       "      <td>12.65</td>\n",
       "      <td>15.00</td>\n",
       "      <td>17.800</td>\n",
       "    </tr>\n",
       "  </tbody>\n",
       "</table>\n",
       "</div>"
      ],
      "text/plain": [
       "                      count        mean        std     min     25%     50%  \\\n",
       "age                   391.0   51.483376  17.169714   2.000   42.00   55.00   \n",
       "Dias_blood_pressure   388.0   76.469072  13.683637  50.000   70.00   80.00   \n",
       "ur_specific_gravity   353.0    1.017408   0.005717   1.005    1.01    1.02   \n",
       "ur_albumin            354.0    1.016949   1.352679   0.000    0.00    0.00   \n",
       "ur_sugar              351.0    0.450142   1.099191   0.000    0.00    0.00   \n",
       "blood glucose random  356.0  148.036517  79.281714  22.000   99.00  121.00   \n",
       "blood urea            381.0   57.425722  50.503006   1.500   27.00   42.00   \n",
       "serum creatinine      383.0    3.072454   5.741126   0.400    0.90    1.30   \n",
       "sodium                313.0  137.528754  10.408752   4.500  135.00  138.00   \n",
       "potassium             312.0    4.627244   3.193904   2.500    3.80    4.40   \n",
       "hemoglobin            348.0   12.526437   2.912587   3.100   10.30   12.65   \n",
       "\n",
       "                         75%      max  \n",
       "age                    64.50   90.000  \n",
       "Dias_blood_pressure    80.00  180.000  \n",
       "ur_specific_gravity     1.02    1.025  \n",
       "ur_albumin              2.00    5.000  \n",
       "ur_sugar                0.00    5.000  \n",
       "blood glucose random  163.00  490.000  \n",
       "blood urea             66.00  391.000  \n",
       "serum creatinine        2.80   76.000  \n",
       "sodium                142.00  163.000  \n",
       "potassium               4.90   47.000  \n",
       "hemoglobin             15.00   17.800  "
      ]
     },
     "execution_count": 13,
     "metadata": {},
     "output_type": "execute_result"
    }
   ],
   "source": [
    "data.describe().T"
   ]
  },
  {
   "cell_type": "code",
   "execution_count": 14,
   "id": "ac66aaad",
   "metadata": {
    "execution": {
     "iopub.execute_input": "2022-02-23T18:39:01.852392Z",
     "iopub.status.busy": "2022-02-23T18:39:01.852094Z",
     "iopub.status.idle": "2022-02-23T18:39:01.890554Z",
     "shell.execute_reply": "2022-02-23T18:39:01.88955Z",
     "shell.execute_reply.started": "2022-02-23T18:39:01.852363Z"
    }
   },
   "outputs": [
    {
     "data": {
      "text/html": [
       "<div>\n",
       "<style scoped>\n",
       "    .dataframe tbody tr th:only-of-type {\n",
       "        vertical-align: middle;\n",
       "    }\n",
       "\n",
       "    .dataframe tbody tr th {\n",
       "        vertical-align: top;\n",
       "    }\n",
       "\n",
       "    .dataframe thead th {\n",
       "        text-align: right;\n",
       "    }\n",
       "</style>\n",
       "<table border=\"1\" class=\"dataframe\">\n",
       "  <thead>\n",
       "    <tr style=\"text-align: right;\">\n",
       "      <th></th>\n",
       "      <th>count</th>\n",
       "      <th>unique</th>\n",
       "      <th>top</th>\n",
       "      <th>freq</th>\n",
       "    </tr>\n",
       "  </thead>\n",
       "  <tbody>\n",
       "    <tr>\n",
       "      <th>red_blood_cells</th>\n",
       "      <td>248</td>\n",
       "      <td>2</td>\n",
       "      <td>normal</td>\n",
       "      <td>201</td>\n",
       "    </tr>\n",
       "    <tr>\n",
       "      <th>ur_pus_cell</th>\n",
       "      <td>335</td>\n",
       "      <td>2</td>\n",
       "      <td>normal</td>\n",
       "      <td>259</td>\n",
       "    </tr>\n",
       "    <tr>\n",
       "      <th>ur_ pus_cell clumps</th>\n",
       "      <td>396</td>\n",
       "      <td>2</td>\n",
       "      <td>notpresent</td>\n",
       "      <td>354</td>\n",
       "    </tr>\n",
       "    <tr>\n",
       "      <th>ur_bacteria</th>\n",
       "      <td>396</td>\n",
       "      <td>2</td>\n",
       "      <td>notpresent</td>\n",
       "      <td>374</td>\n",
       "    </tr>\n",
       "    <tr>\n",
       "      <th>packed cell volume</th>\n",
       "      <td>330</td>\n",
       "      <td>44</td>\n",
       "      <td>41</td>\n",
       "      <td>21</td>\n",
       "    </tr>\n",
       "    <tr>\n",
       "      <th>white blood cell count</th>\n",
       "      <td>295</td>\n",
       "      <td>92</td>\n",
       "      <td>9800</td>\n",
       "      <td>11</td>\n",
       "    </tr>\n",
       "    <tr>\n",
       "      <th>red blood cell count</th>\n",
       "      <td>270</td>\n",
       "      <td>46</td>\n",
       "      <td>5.2</td>\n",
       "      <td>18</td>\n",
       "    </tr>\n",
       "    <tr>\n",
       "      <th>hypertension</th>\n",
       "      <td>398</td>\n",
       "      <td>2</td>\n",
       "      <td>no</td>\n",
       "      <td>251</td>\n",
       "    </tr>\n",
       "    <tr>\n",
       "      <th>diabetes</th>\n",
       "      <td>398</td>\n",
       "      <td>5</td>\n",
       "      <td>no</td>\n",
       "      <td>258</td>\n",
       "    </tr>\n",
       "    <tr>\n",
       "      <th>coronary artery disease</th>\n",
       "      <td>398</td>\n",
       "      <td>3</td>\n",
       "      <td>no</td>\n",
       "      <td>362</td>\n",
       "    </tr>\n",
       "    <tr>\n",
       "      <th>appetite</th>\n",
       "      <td>399</td>\n",
       "      <td>2</td>\n",
       "      <td>good</td>\n",
       "      <td>317</td>\n",
       "    </tr>\n",
       "    <tr>\n",
       "      <th>pedal edema</th>\n",
       "      <td>399</td>\n",
       "      <td>2</td>\n",
       "      <td>no</td>\n",
       "      <td>323</td>\n",
       "    </tr>\n",
       "    <tr>\n",
       "      <th>anemia</th>\n",
       "      <td>399</td>\n",
       "      <td>2</td>\n",
       "      <td>no</td>\n",
       "      <td>339</td>\n",
       "    </tr>\n",
       "    <tr>\n",
       "      <th>class</th>\n",
       "      <td>400</td>\n",
       "      <td>3</td>\n",
       "      <td>ckd</td>\n",
       "      <td>248</td>\n",
       "    </tr>\n",
       "  </tbody>\n",
       "</table>\n",
       "</div>"
      ],
      "text/plain": [
       "                        count unique         top freq\n",
       "red_blood_cells           248      2      normal  201\n",
       "ur_pus_cell               335      2      normal  259\n",
       "ur_ pus_cell clumps       396      2  notpresent  354\n",
       "ur_bacteria               396      2  notpresent  374\n",
       "packed cell volume        330     44          41   21\n",
       "white blood cell count    295     92        9800   11\n",
       "red blood cell count      270     46         5.2   18\n",
       "hypertension              398      2          no  251\n",
       "diabetes                  398      5          no  258\n",
       "coronary artery disease   398      3          no  362\n",
       "appetite                  399      2        good  317\n",
       "pedal edema               399      2          no  323\n",
       "anemia                    399      2          no  339\n",
       "class                     400      3         ckd  248"
      ]
     },
     "execution_count": 14,
     "metadata": {},
     "output_type": "execute_result"
    }
   ],
   "source": [
    "data.describe(exclude=[np.number]).T"
   ]
  },
  {
   "cell_type": "markdown",
   "id": "9a3e1b6c",
   "metadata": {},
   "source": [
    "There is so much cleaning to do. let's take it step by step :  \n",
    "- age is important in the diagnosis of kidney stone so we need to fill the missing values and verify the youg ages to know if children are included.\n",
    "- Dias_blood_pressure & hypertension: what we have here is actually only the Diastolic blood pressure which is generally between 70 and 80 in healthy people , anything above that is considered hypertension patient.This with help us with the missing values in the hypertension column and vice versa.\n",
    "- ur_sugar is actually sugar in urine. When blood glucose level is within normal limits(70 to 140 mg/dL), the urine does not contain any glucose (sugar). Otherwise , this can be an indicator of diabetes.\n",
    "- the hemoglobin is a good indicator for anemia, normal hemoglobin values goes from 11 to  17 , anything below that should make us think of anemia .\n",
    "- packed cell volume, white blood cell count and red blood cell count should be numeric not object .\n",
    "- diabetes, coronary artery disease and class has more tha 2 unique values . let's investigate that."
   ]
  },
  {
   "cell_type": "markdown",
   "id": "a93cc057",
   "metadata": {},
   "source": [
    "**Let's start with categorical data first:**\n",
    "- packed cell volume & white blood cell count & red blood cell count :"
   ]
  },
  {
   "cell_type": "code",
   "execution_count": 15,
   "id": "ef436915",
   "metadata": {
    "execution": {
     "iopub.execute_input": "2022-02-23T18:39:06.337365Z",
     "iopub.status.busy": "2022-02-23T18:39:06.336891Z",
     "iopub.status.idle": "2022-02-23T18:39:06.34439Z",
     "shell.execute_reply": "2022-02-23T18:39:06.343773Z",
     "shell.execute_reply.started": "2022-02-23T18:39:06.337326Z"
    }
   },
   "outputs": [
    {
     "data": {
      "text/plain": [
       "array(['5.2', nan, '3.9', '4.6', '4.4', '5', '4', '3.7', '3.8', '3.4',\n",
       "       '2.6', '2.8', '4.3', '3.2', '3.6', '4.1', '4.9', '2.5', '4.2',\n",
       "       '4.5', '3.1', '4.7', '3.5', '6', '2.1', '5.6', '2.3', '2.9', '2.7',\n",
       "       '8', '3.3', '3', '2.4', '4.8', '\\t?', '5.4', '6.1', '6.2', '6.3',\n",
       "       '5.1', '5.8', '5.5', '5.3', '6.4', '5.7', '5.9', '6.5'],\n",
       "      dtype=object)"
      ]
     },
     "execution_count": 15,
     "metadata": {},
     "output_type": "execute_result"
    }
   ],
   "source": [
    "data['red blood cell count'].unique()"
   ]
  },
  {
   "cell_type": "code",
   "execution_count": 16,
   "id": "5e428517",
   "metadata": {
    "execution": {
     "iopub.execute_input": "2022-02-23T18:39:06.347049Z",
     "iopub.status.busy": "2022-02-23T18:39:06.34639Z",
     "iopub.status.idle": "2022-02-23T18:39:06.357307Z",
     "shell.execute_reply": "2022-02-23T18:39:06.356659Z",
     "shell.execute_reply.started": "2022-02-23T18:39:06.347009Z"
    },
    "scrolled": true
   },
   "outputs": [
    {
     "data": {
      "text/plain": [
       "array(['44', '38', '31', '32', '35', '39', '36', '33', '29', '28', nan,\n",
       "       '16', '24', '37', '30', '34', '40', '45', '27', '48', '\\t?', '52',\n",
       "       '14', '22', '18', '42', '17', '46', '23', '19', '25', '41', '26',\n",
       "       '15', '21', '43', '20', '\\t43', '47', '9', '49', '50', '53', '51',\n",
       "       '54'], dtype=object)"
      ]
     },
     "execution_count": 16,
     "metadata": {},
     "output_type": "execute_result"
    }
   ],
   "source": [
    "data['packed cell volume'].unique()"
   ]
  },
  {
   "cell_type": "code",
   "execution_count": 17,
   "id": "154251a0",
   "metadata": {
    "execution": {
     "iopub.execute_input": "2022-02-23T18:39:06.359049Z",
     "iopub.status.busy": "2022-02-23T18:39:06.358607Z",
     "iopub.status.idle": "2022-02-23T18:39:06.37106Z",
     "shell.execute_reply": "2022-02-23T18:39:06.370291Z",
     "shell.execute_reply.started": "2022-02-23T18:39:06.359016Z"
    },
    "scrolled": true
   },
   "outputs": [
    {
     "data": {
      "text/plain": [
       "array(['7800', '6000', '7500', '6700', '7300', nan, '6900', '9600',\n",
       "       '12100', '4500', '12200', '11000', '3800', '11400', '5300', '9200',\n",
       "       '6200', '8300', '8400', '10300', '9800', '9100', '7900', '6400',\n",
       "       '8600', '18900', '21600', '4300', '8500', '11300', '7200', '7700',\n",
       "       '14600', '6300', '\\t6200', '7100', '11800', '9400', '5500', '5800',\n",
       "       '13200', '12500', '5600', '7000', '11900', '10400', '10700',\n",
       "       '12700', '6800', '6500', '13600', '10200', '9000', '14900', '8200',\n",
       "       '15200', '5000', '16300', '12400', '\\t8400', '10500', '4200',\n",
       "       '4700', '10900', '8100', '9500', '2200', '12800', '11200', '19100',\n",
       "       '\\t?', '12300', '16700', '2600', '26400', '8800', '7400', '4900',\n",
       "       '8000', '12000', '15700', '4100', '5700', '11500', '5400', '10800',\n",
       "       '9900', '5200', '5900', '9300', '9700', '5100', '6600'],\n",
       "      dtype=object)"
      ]
     },
     "execution_count": 17,
     "metadata": {},
     "output_type": "execute_result"
    }
   ],
   "source": [
    "data['white blood cell count'].unique()"
   ]
  },
  {
   "cell_type": "markdown",
   "id": "6001665c",
   "metadata": {},
   "source": [
    "there is typing errors in these 3 column ('packed cell volume','white blood cell count','red blood cell count') , let's correct that and then convert them to numeric type."
   ]
  },
  {
   "cell_type": "code",
   "execution_count": 18,
   "id": "594c6c83",
   "metadata": {
    "execution": {
     "iopub.execute_input": "2022-02-23T18:39:06.372633Z",
     "iopub.status.busy": "2022-02-23T18:39:06.372242Z",
     "iopub.status.idle": "2022-02-23T18:39:06.388779Z",
     "shell.execute_reply": "2022-02-23T18:39:06.387714Z",
     "shell.execute_reply.started": "2022-02-23T18:39:06.372594Z"
    }
   },
   "outputs": [],
   "source": [
    "data['red blood cell count'].loc[(data['red blood cell count']=='\\t?')] = 'NaN'\n",
    "data['packed cell volume'].loc[(data['packed cell volume']=='\\t?')] = 'NaN'\n",
    "data['white blood cell count'].loc[(data['white blood cell count']=='\\t?')] = 'NaN'\n",
    "data['packed cell volume'].loc[(data['packed cell volume']=='\\t43')] = '43'\n",
    "data['white blood cell count'].loc[(data['white blood cell count']=='\\t6200')] = '6200'\n",
    "data['white blood cell count'].loc[(data['white blood cell count']=='\\t8400')] = '8400'"
   ]
  },
  {
   "cell_type": "code",
   "execution_count": 19,
   "id": "07275eb7",
   "metadata": {
    "execution": {
     "iopub.execute_input": "2022-02-23T18:39:06.391801Z",
     "iopub.status.busy": "2022-02-23T18:39:06.391569Z",
     "iopub.status.idle": "2022-02-23T18:39:06.399909Z",
     "shell.execute_reply": "2022-02-23T18:39:06.398712Z",
     "shell.execute_reply.started": "2022-02-23T18:39:06.391774Z"
    },
    "scrolled": true
   },
   "outputs": [],
   "source": [
    "data['packed cell volume'] = data['packed cell volume'].astype(float)\n",
    "data['white blood cell count'] = data['white blood cell count'].astype(float)\n",
    "data['red blood cell count'] = data['red blood cell count'].astype(float)"
   ]
  },
  {
   "cell_type": "code",
   "execution_count": 20,
   "id": "2404b999",
   "metadata": {
    "execution": {
     "iopub.execute_input": "2022-02-23T18:39:06.401824Z",
     "iopub.status.busy": "2022-02-23T18:39:06.401426Z",
     "iopub.status.idle": "2022-02-23T18:39:06.440358Z",
     "shell.execute_reply": "2022-02-23T18:39:06.439712Z",
     "shell.execute_reply.started": "2022-02-23T18:39:06.401678Z"
    },
    "scrolled": true
   },
   "outputs": [
    {
     "data": {
      "text/html": [
       "<div>\n",
       "<style scoped>\n",
       "    .dataframe tbody tr th:only-of-type {\n",
       "        vertical-align: middle;\n",
       "    }\n",
       "\n",
       "    .dataframe tbody tr th {\n",
       "        vertical-align: top;\n",
       "    }\n",
       "\n",
       "    .dataframe thead th {\n",
       "        text-align: right;\n",
       "    }\n",
       "</style>\n",
       "<table border=\"1\" class=\"dataframe\">\n",
       "  <thead>\n",
       "    <tr style=\"text-align: right;\">\n",
       "      <th></th>\n",
       "      <th>count</th>\n",
       "      <th>unique</th>\n",
       "      <th>top</th>\n",
       "      <th>freq</th>\n",
       "    </tr>\n",
       "  </thead>\n",
       "  <tbody>\n",
       "    <tr>\n",
       "      <th>red_blood_cells</th>\n",
       "      <td>248</td>\n",
       "      <td>2</td>\n",
       "      <td>normal</td>\n",
       "      <td>201</td>\n",
       "    </tr>\n",
       "    <tr>\n",
       "      <th>ur_pus_cell</th>\n",
       "      <td>335</td>\n",
       "      <td>2</td>\n",
       "      <td>normal</td>\n",
       "      <td>259</td>\n",
       "    </tr>\n",
       "    <tr>\n",
       "      <th>ur_ pus_cell clumps</th>\n",
       "      <td>396</td>\n",
       "      <td>2</td>\n",
       "      <td>notpresent</td>\n",
       "      <td>354</td>\n",
       "    </tr>\n",
       "    <tr>\n",
       "      <th>ur_bacteria</th>\n",
       "      <td>396</td>\n",
       "      <td>2</td>\n",
       "      <td>notpresent</td>\n",
       "      <td>374</td>\n",
       "    </tr>\n",
       "    <tr>\n",
       "      <th>hypertension</th>\n",
       "      <td>398</td>\n",
       "      <td>2</td>\n",
       "      <td>no</td>\n",
       "      <td>251</td>\n",
       "    </tr>\n",
       "    <tr>\n",
       "      <th>diabetes</th>\n",
       "      <td>398</td>\n",
       "      <td>5</td>\n",
       "      <td>no</td>\n",
       "      <td>258</td>\n",
       "    </tr>\n",
       "    <tr>\n",
       "      <th>coronary artery disease</th>\n",
       "      <td>398</td>\n",
       "      <td>3</td>\n",
       "      <td>no</td>\n",
       "      <td>362</td>\n",
       "    </tr>\n",
       "    <tr>\n",
       "      <th>appetite</th>\n",
       "      <td>399</td>\n",
       "      <td>2</td>\n",
       "      <td>good</td>\n",
       "      <td>317</td>\n",
       "    </tr>\n",
       "    <tr>\n",
       "      <th>pedal edema</th>\n",
       "      <td>399</td>\n",
       "      <td>2</td>\n",
       "      <td>no</td>\n",
       "      <td>323</td>\n",
       "    </tr>\n",
       "    <tr>\n",
       "      <th>anemia</th>\n",
       "      <td>399</td>\n",
       "      <td>2</td>\n",
       "      <td>no</td>\n",
       "      <td>339</td>\n",
       "    </tr>\n",
       "    <tr>\n",
       "      <th>class</th>\n",
       "      <td>400</td>\n",
       "      <td>3</td>\n",
       "      <td>ckd</td>\n",
       "      <td>248</td>\n",
       "    </tr>\n",
       "  </tbody>\n",
       "</table>\n",
       "</div>"
      ],
      "text/plain": [
       "                        count unique         top freq\n",
       "red_blood_cells           248      2      normal  201\n",
       "ur_pus_cell               335      2      normal  259\n",
       "ur_ pus_cell clumps       396      2  notpresent  354\n",
       "ur_bacteria               396      2  notpresent  374\n",
       "hypertension              398      2          no  251\n",
       "diabetes                  398      5          no  258\n",
       "coronary artery disease   398      3          no  362\n",
       "appetite                  399      2        good  317\n",
       "pedal edema               399      2          no  323\n",
       "anemia                    399      2          no  339\n",
       "class                     400      3         ckd  248"
      ]
     },
     "execution_count": 20,
     "metadata": {},
     "output_type": "execute_result"
    }
   ],
   "source": [
    "data.describe(exclude=[np.number]).T"
   ]
  },
  {
   "cell_type": "markdown",
   "id": "747abe3a",
   "metadata": {},
   "source": [
    "- diabetes :"
   ]
  },
  {
   "cell_type": "code",
   "execution_count": 21,
   "id": "2a702dbe",
   "metadata": {
    "execution": {
     "iopub.execute_input": "2022-02-23T18:39:06.442279Z",
     "iopub.status.busy": "2022-02-23T18:39:06.441494Z",
     "iopub.status.idle": "2022-02-23T18:39:06.44945Z",
     "shell.execute_reply": "2022-02-23T18:39:06.448259Z",
     "shell.execute_reply.started": "2022-02-23T18:39:06.442229Z"
    },
    "scrolled": true
   },
   "outputs": [
    {
     "data": {
      "text/plain": [
       "array(['yes', 'no', ' yes', '\\tno', '\\tyes', nan], dtype=object)"
      ]
     },
     "execution_count": 21,
     "metadata": {},
     "output_type": "execute_result"
    }
   ],
   "source": [
    "data['diabetes'].unique()"
   ]
  },
  {
   "cell_type": "markdown",
   "id": "979daf0f",
   "metadata": {},
   "source": [
    "there is clearly a typing error of the same kind in the diabetes column. let's replace them ."
   ]
  },
  {
   "cell_type": "code",
   "execution_count": 22,
   "id": "e717819e",
   "metadata": {
    "execution": {
     "iopub.execute_input": "2022-02-23T18:39:06.451753Z",
     "iopub.status.busy": "2022-02-23T18:39:06.4509Z",
     "iopub.status.idle": "2022-02-23T18:39:06.466432Z",
     "shell.execute_reply": "2022-02-23T18:39:06.465457Z",
     "shell.execute_reply.started": "2022-02-23T18:39:06.451705Z"
    },
    "scrolled": true
   },
   "outputs": [
    {
     "data": {
      "text/plain": [
       "array(['yes', 'no', nan], dtype=object)"
      ]
     },
     "execution_count": 22,
     "metadata": {},
     "output_type": "execute_result"
    }
   ],
   "source": [
    "data['diabetes'].loc[(data['diabetes']=='\\tno')] = 'no'\n",
    "data['diabetes'].loc[(data['diabetes']=='\\tyes')] = 'yes'\n",
    "data['diabetes'].loc[(data['diabetes']==' yes')] = 'yes'\n",
    "data['diabetes'].unique()"
   ]
  },
  {
   "cell_type": "markdown",
   "id": "88dfee65",
   "metadata": {},
   "source": [
    "- coronary artery disease :"
   ]
  },
  {
   "cell_type": "code",
   "execution_count": 23,
   "id": "cc1b9aa6",
   "metadata": {
    "execution": {
     "iopub.execute_input": "2022-02-23T18:39:06.468292Z",
     "iopub.status.busy": "2022-02-23T18:39:06.467833Z",
     "iopub.status.idle": "2022-02-23T18:39:06.479264Z",
     "shell.execute_reply": "2022-02-23T18:39:06.478163Z",
     "shell.execute_reply.started": "2022-02-23T18:39:06.468244Z"
    },
    "scrolled": true
   },
   "outputs": [
    {
     "data": {
      "text/plain": [
       "array(['no', 'yes', '\\tno', nan], dtype=object)"
      ]
     },
     "execution_count": 23,
     "metadata": {},
     "output_type": "execute_result"
    }
   ],
   "source": [
    "data['coronary artery disease'].unique()"
   ]
  },
  {
   "cell_type": "markdown",
   "id": "dce3a3c0",
   "metadata": {},
   "source": [
    "same typing error."
   ]
  },
  {
   "cell_type": "code",
   "execution_count": 24,
   "id": "955efa46",
   "metadata": {
    "execution": {
     "iopub.execute_input": "2022-02-23T18:39:06.481506Z",
     "iopub.status.busy": "2022-02-23T18:39:06.480942Z",
     "iopub.status.idle": "2022-02-23T18:39:06.489053Z",
     "shell.execute_reply": "2022-02-23T18:39:06.48831Z",
     "shell.execute_reply.started": "2022-02-23T18:39:06.481457Z"
    }
   },
   "outputs": [],
   "source": [
    "data['coronary artery disease'].loc[(data['coronary artery disease']=='\\tno')] = 'no'"
   ]
  },
  {
   "cell_type": "markdown",
   "id": "0dc66e6f",
   "metadata": {},
   "source": [
    "- class :"
   ]
  },
  {
   "cell_type": "code",
   "execution_count": 25,
   "id": "5774e657",
   "metadata": {
    "execution": {
     "iopub.execute_input": "2022-02-23T18:39:06.491167Z",
     "iopub.status.busy": "2022-02-23T18:39:06.490345Z",
     "iopub.status.idle": "2022-02-23T18:39:06.501633Z",
     "shell.execute_reply": "2022-02-23T18:39:06.501025Z",
     "shell.execute_reply.started": "2022-02-23T18:39:06.49113Z"
    }
   },
   "outputs": [
    {
     "data": {
      "text/plain": [
       "array(['ckd', 'ckd\\t', 'notckd'], dtype=object)"
      ]
     },
     "execution_count": 25,
     "metadata": {},
     "output_type": "execute_result"
    }
   ],
   "source": [
    "data['class'].unique()"
   ]
  },
  {
   "cell_type": "markdown",
   "id": "e9d5be32",
   "metadata": {},
   "source": [
    "and a last time the same error in the class column."
   ]
  },
  {
   "cell_type": "code",
   "execution_count": 26,
   "id": "c77d7620",
   "metadata": {
    "execution": {
     "iopub.execute_input": "2022-02-23T18:39:06.504694Z",
     "iopub.status.busy": "2022-02-23T18:39:06.504108Z",
     "iopub.status.idle": "2022-02-23T18:39:06.511449Z",
     "shell.execute_reply": "2022-02-23T18:39:06.510609Z",
     "shell.execute_reply.started": "2022-02-23T18:39:06.504651Z"
    }
   },
   "outputs": [],
   "source": [
    "data['class'].loc[(data['class']=='ckd\\t')] = 'ckd'"
   ]
  },
  {
   "cell_type": "code",
   "execution_count": 27,
   "id": "263e3849",
   "metadata": {
    "execution": {
     "iopub.execute_input": "2022-02-23T18:39:06.513319Z",
     "iopub.status.busy": "2022-02-23T18:39:06.512737Z",
     "iopub.status.idle": "2022-02-23T18:39:06.547444Z",
     "shell.execute_reply": "2022-02-23T18:39:06.546491Z",
     "shell.execute_reply.started": "2022-02-23T18:39:06.513287Z"
    },
    "scrolled": true
   },
   "outputs": [
    {
     "data": {
      "text/html": [
       "<div>\n",
       "<style scoped>\n",
       "    .dataframe tbody tr th:only-of-type {\n",
       "        vertical-align: middle;\n",
       "    }\n",
       "\n",
       "    .dataframe tbody tr th {\n",
       "        vertical-align: top;\n",
       "    }\n",
       "\n",
       "    .dataframe thead th {\n",
       "        text-align: right;\n",
       "    }\n",
       "</style>\n",
       "<table border=\"1\" class=\"dataframe\">\n",
       "  <thead>\n",
       "    <tr style=\"text-align: right;\">\n",
       "      <th></th>\n",
       "      <th>count</th>\n",
       "      <th>unique</th>\n",
       "      <th>top</th>\n",
       "      <th>freq</th>\n",
       "    </tr>\n",
       "  </thead>\n",
       "  <tbody>\n",
       "    <tr>\n",
       "      <th>red_blood_cells</th>\n",
       "      <td>248</td>\n",
       "      <td>2</td>\n",
       "      <td>normal</td>\n",
       "      <td>201</td>\n",
       "    </tr>\n",
       "    <tr>\n",
       "      <th>ur_pus_cell</th>\n",
       "      <td>335</td>\n",
       "      <td>2</td>\n",
       "      <td>normal</td>\n",
       "      <td>259</td>\n",
       "    </tr>\n",
       "    <tr>\n",
       "      <th>ur_ pus_cell clumps</th>\n",
       "      <td>396</td>\n",
       "      <td>2</td>\n",
       "      <td>notpresent</td>\n",
       "      <td>354</td>\n",
       "    </tr>\n",
       "    <tr>\n",
       "      <th>ur_bacteria</th>\n",
       "      <td>396</td>\n",
       "      <td>2</td>\n",
       "      <td>notpresent</td>\n",
       "      <td>374</td>\n",
       "    </tr>\n",
       "    <tr>\n",
       "      <th>hypertension</th>\n",
       "      <td>398</td>\n",
       "      <td>2</td>\n",
       "      <td>no</td>\n",
       "      <td>251</td>\n",
       "    </tr>\n",
       "    <tr>\n",
       "      <th>diabetes</th>\n",
       "      <td>398</td>\n",
       "      <td>2</td>\n",
       "      <td>no</td>\n",
       "      <td>261</td>\n",
       "    </tr>\n",
       "    <tr>\n",
       "      <th>coronary artery disease</th>\n",
       "      <td>398</td>\n",
       "      <td>2</td>\n",
       "      <td>no</td>\n",
       "      <td>364</td>\n",
       "    </tr>\n",
       "    <tr>\n",
       "      <th>appetite</th>\n",
       "      <td>399</td>\n",
       "      <td>2</td>\n",
       "      <td>good</td>\n",
       "      <td>317</td>\n",
       "    </tr>\n",
       "    <tr>\n",
       "      <th>pedal edema</th>\n",
       "      <td>399</td>\n",
       "      <td>2</td>\n",
       "      <td>no</td>\n",
       "      <td>323</td>\n",
       "    </tr>\n",
       "    <tr>\n",
       "      <th>anemia</th>\n",
       "      <td>399</td>\n",
       "      <td>2</td>\n",
       "      <td>no</td>\n",
       "      <td>339</td>\n",
       "    </tr>\n",
       "    <tr>\n",
       "      <th>class</th>\n",
       "      <td>400</td>\n",
       "      <td>2</td>\n",
       "      <td>ckd</td>\n",
       "      <td>250</td>\n",
       "    </tr>\n",
       "  </tbody>\n",
       "</table>\n",
       "</div>"
      ],
      "text/plain": [
       "                        count unique         top freq\n",
       "red_blood_cells           248      2      normal  201\n",
       "ur_pus_cell               335      2      normal  259\n",
       "ur_ pus_cell clumps       396      2  notpresent  354\n",
       "ur_bacteria               396      2  notpresent  374\n",
       "hypertension              398      2          no  251\n",
       "diabetes                  398      2          no  261\n",
       "coronary artery disease   398      2          no  364\n",
       "appetite                  399      2        good  317\n",
       "pedal edema               399      2          no  323\n",
       "anemia                    399      2          no  339\n",
       "class                     400      2         ckd  250"
      ]
     },
     "execution_count": 27,
     "metadata": {},
     "output_type": "execute_result"
    }
   ],
   "source": [
    "data.describe(exclude=[np.number]).T"
   ]
  },
  {
   "cell_type": "code",
   "execution_count": 28,
   "id": "c594ee80",
   "metadata": {},
   "outputs": [
    {
     "name": "stdout",
     "output_type": "stream",
     "text": [
      "<class 'pandas.core.frame.DataFrame'>\n",
      "RangeIndex: 400 entries, 0 to 399\n",
      "Data columns (total 25 columns):\n",
      " #   Column                   Non-Null Count  Dtype  \n",
      "---  ------                   --------------  -----  \n",
      " 0   age                      391 non-null    float64\n",
      " 1   Dias_blood_pressure      388 non-null    float64\n",
      " 2   ur_specific_gravity      353 non-null    float64\n",
      " 3   ur_albumin               354 non-null    float64\n",
      " 4   ur_sugar                 351 non-null    float64\n",
      " 5   red_blood_cells          248 non-null    object \n",
      " 6   ur_pus_cell              335 non-null    object \n",
      " 7   ur_ pus_cell clumps      396 non-null    object \n",
      " 8   ur_bacteria              396 non-null    object \n",
      " 9   blood glucose random     356 non-null    float64\n",
      " 10  blood urea               381 non-null    float64\n",
      " 11  serum creatinine         383 non-null    float64\n",
      " 12  sodium                   313 non-null    float64\n",
      " 13  potassium                312 non-null    float64\n",
      " 14  hemoglobin               348 non-null    float64\n",
      " 15  packed cell volume       329 non-null    float64\n",
      " 16  white blood cell count   294 non-null    float64\n",
      " 17  red blood cell count     269 non-null    float64\n",
      " 18  hypertension             398 non-null    object \n",
      " 19  diabetes                 398 non-null    object \n",
      " 20  coronary artery disease  398 non-null    object \n",
      " 21  appetite                 399 non-null    object \n",
      " 22  pedal edema              399 non-null    object \n",
      " 23  anemia                   399 non-null    object \n",
      " 24  class                    400 non-null    object \n",
      "dtypes: float64(14), object(11)\n",
      "memory usage: 78.2+ KB\n"
     ]
    }
   ],
   "source": [
    "data.info()"
   ]
  },
  {
   "cell_type": "code",
   "execution_count": 29,
   "id": "466e66c1",
   "metadata": {},
   "outputs": [],
   "source": [
    "for col in data.columns:\n",
    "    if(data[col].dtype=='object'):\n",
    "        data[col]=data[col].fillna(data[col].mode()[0])\n",
    "    else:\n",
    "        data[col]=data[col].fillna(data[col].mean()) "
   ]
  },
  {
   "cell_type": "code",
   "execution_count": 30,
   "id": "05549efc",
   "metadata": {},
   "outputs": [
    {
     "data": {
      "text/plain": [
       "age                        0\n",
       "Dias_blood_pressure        0\n",
       "ur_specific_gravity        0\n",
       "ur_albumin                 0\n",
       "ur_sugar                   0\n",
       "red_blood_cells            0\n",
       "ur_pus_cell                0\n",
       "ur_ pus_cell clumps        0\n",
       "ur_bacteria                0\n",
       "blood glucose random       0\n",
       "blood urea                 0\n",
       "serum creatinine           0\n",
       "sodium                     0\n",
       "potassium                  0\n",
       "hemoglobin                 0\n",
       "packed cell volume         0\n",
       "white blood cell count     0\n",
       "red blood cell count       0\n",
       "hypertension               0\n",
       "diabetes                   0\n",
       "coronary artery disease    0\n",
       "appetite                   0\n",
       "pedal edema                0\n",
       "anemia                     0\n",
       "class                      0\n",
       "dtype: int64"
      ]
     },
     "execution_count": 30,
     "metadata": {},
     "output_type": "execute_result"
    }
   ],
   "source": [
    "data.isna().sum()"
   ]
  },
  {
   "cell_type": "markdown",
   "id": "ce47e4c6",
   "metadata": {},
   "source": [
    "## Feature Selection"
   ]
  },
  {
   "cell_type": "code",
   "execution_count": 31,
   "id": "323adbbc",
   "metadata": {},
   "outputs": [],
   "source": [
    "from sklearn.feature_selection import RFE\n",
    "from sklearn.ensemble import RandomForestClassifier\n",
    "from sklearn.pipeline import Pipeline\n",
    "from sklearn.model_selection import cross_val_score\n",
    "from sklearn.model_selection import RepeatedStratifiedKFold\n",
    "import matplotlib.pyplot as plt\n",
    "from numpy import mean\n",
    "from numpy import std"
   ]
  },
  {
   "cell_type": "code",
   "execution_count": 32,
   "id": "d08c7b92",
   "metadata": {},
   "outputs": [
    {
     "data": {
      "text/plain": [
       "['red_blood_cells',\n",
       " 'ur_pus_cell',\n",
       " 'ur_ pus_cell clumps',\n",
       " 'ur_bacteria',\n",
       " 'hypertension',\n",
       " 'diabetes',\n",
       " 'coronary artery disease',\n",
       " 'appetite',\n",
       " 'pedal edema',\n",
       " 'anemia',\n",
       " 'class']"
      ]
     },
     "execution_count": 32,
     "metadata": {},
     "output_type": "execute_result"
    }
   ],
   "source": [
    "cat_data = [col for col in data.columns if (data[col].dtype == 'object')]\n",
    "cat_data"
   ]
  },
  {
   "cell_type": "markdown",
   "id": "b5b65c0f",
   "metadata": {},
   "source": [
    "## Let's first encode our data"
   ]
  },
  {
   "cell_type": "code",
   "execution_count": 33,
   "id": "ba089e1b",
   "metadata": {},
   "outputs": [
    {
     "data": {
      "text/plain": [
       "[None, None, None, None, None, None, None, None, None, None, None]"
      ]
     },
     "execution_count": 33,
     "metadata": {},
     "output_type": "execute_result"
    }
   ],
   "source": [
    "from sklearn.preprocessing import OrdinalEncoder\n",
    "def encode(column):\n",
    "    ord_enc = OrdinalEncoder()\n",
    "    data[column] = ord_enc.fit_transform(data[[column]])\n",
    "    data[column] = data[column].astype(int)\n",
    "[encode(col) for col in data.columns if (data[col].dtype == 'object')]"
   ]
  },
  {
   "cell_type": "code",
   "execution_count": 34,
   "id": "44d9dee5",
   "metadata": {},
   "outputs": [
    {
     "data": {
      "text/plain": [
       "(400, 25)"
      ]
     },
     "execution_count": 34,
     "metadata": {},
     "output_type": "execute_result"
    }
   ],
   "source": [
    "data.shape"
   ]
  },
  {
   "cell_type": "code",
   "execution_count": 35,
   "id": "e1662330",
   "metadata": {},
   "outputs": [],
   "source": [
    "X = data.drop('class', axis=1)\n",
    "y = data['class']"
   ]
  },
  {
   "cell_type": "code",
   "execution_count": 36,
   "id": "e8a0c45b",
   "metadata": {},
   "outputs": [],
   "source": [
    "# get a list of models to evaluate\n",
    "def get_models():\n",
    "    models = dict()\n",
    "    for i in range(2, 24):\n",
    "        rfe = RFE(estimator=RandomForestClassifier(), n_features_to_select=i)\n",
    "        model = RandomForestClassifier()\n",
    "        models[str(i)] = Pipeline(steps=[('s',rfe),('m',model)])\n",
    "    return models"
   ]
  },
  {
   "cell_type": "code",
   "execution_count": 37,
   "id": "1df665f9",
   "metadata": {},
   "outputs": [],
   "source": [
    "# evaluate a give model using cross-validation\n",
    "def evaluate_model(model, X, y):\n",
    "    cv = RepeatedStratifiedKFold(n_splits=10, n_repeats=3, random_state=1)\n",
    "    scores = cross_val_score(model, X, y, scoring='accuracy', cv=cv, n_jobs=-1, error_score='raise')\n",
    "    return scores"
   ]
  },
  {
   "cell_type": "code",
   "execution_count": 38,
   "id": "639dd072",
   "metadata": {
    "scrolled": true
   },
   "outputs": [
    {
     "name": "stdout",
     "output_type": "stream",
     "text": [
      ">2 0.947 (0.040)\n",
      ">3 0.967 (0.037)\n",
      ">4 0.973 (0.030)\n",
      ">5 0.982 (0.027)\n",
      ">6 0.988 (0.025)\n",
      ">7 0.987 (0.022)\n",
      ">8 0.986 (0.022)\n",
      ">9 0.988 (0.024)\n",
      ">10 0.991 (0.018)\n",
      ">11 0.989 (0.017)\n",
      ">12 0.990 (0.019)\n",
      ">13 0.989 (0.017)\n",
      ">14 0.990 (0.019)\n",
      ">15 0.991 (0.018)\n",
      ">16 0.989 (0.019)\n",
      ">17 0.990 (0.019)\n",
      ">18 0.990 (0.021)\n",
      ">19 0.991 (0.019)\n",
      ">20 0.990 (0.021)\n",
      ">21 0.991 (0.019)\n",
      ">22 0.989 (0.021)\n",
      ">23 0.990 (0.019)\n"
     ]
    },
    {
     "data": {
      "image/png": "[encoded data removed]",
      "text/plain": [
       "<Figure size 432x288 with 1 Axes>"
      ]
     },
     "metadata": {
      "needs_background": "light"
     },
     "output_type": "display_data"
    }
   ],
   "source": [
    "# get the models to evaluate\n",
    "models = get_models()\n",
    "# evaluate the models and store results\n",
    "results, names = list(), list()\n",
    "for name, model in models.items():\n",
    "    scores = evaluate_model(model, X, y)\n",
    "    results.append(scores)\n",
    "    names.append(name)\n",
    "    print('>%s %.3f (%.3f)' % (name, mean(scores), std(scores)))\n",
    "# plot model performance for comparison\n",
    "plt.boxplot(results, labels=names, showmeans=True)\n",
    "plt.show()"
   ]
  },
  {
   "cell_type": "markdown",
   "id": "362a6a0a",
   "metadata": {},
   "source": [
    "## It's clear that from 9 features onwards are enough for the model to reach optimality. Let's see which features are getting selected"
   ]
  },
  {
   "cell_type": "code",
   "execution_count": 39,
   "id": "4b06bab0",
   "metadata": {},
   "outputs": [
    {
     "name": "stdout",
     "output_type": "stream",
     "text": [
      "Column: age, Selected False, Rank: 4.000\n",
      "Column: Dias_blood_pressure, Selected False, Rank: 8.000\n",
      "Column: ur_specific_gravity, Selected True, Rank: 1.000\n",
      "Column: ur_albumin, Selected True, Rank: 1.000\n",
      "Column: ur_sugar, Selected False, Rank: 5.000\n",
      "Column: red_blood_cells, Selected False, Rank: 12.000\n",
      "Column: ur_pus_cell, Selected False, Rank: 11.000\n",
      "Column: ur_ pus_cell clumps, Selected False, Rank: 14.000\n",
      "Column: ur_bacteria, Selected False, Rank: 16.000\n",
      "Column: blood glucose random, Selected True, Rank: 1.000\n",
      "Column: blood urea, Selected False, Rank: 3.000\n",
      "Column: serum creatinine, Selected True, Rank: 1.000\n",
      "Column: sodium, Selected False, Rank: 2.000\n",
      "Column: potassium, Selected False, Rank: 6.000\n",
      "Column: hemoglobin, Selected True, Rank: 1.000\n",
      "Column: packed cell volume, Selected True, Rank: 1.000\n",
      "Column: white blood cell count, Selected False, Rank: 9.000\n",
      "Column: red blood cell count, Selected True, Rank: 1.000\n",
      "Column: hypertension, Selected True, Rank: 1.000\n",
      "Column: diabetes, Selected True, Rank: 1.000\n",
      "Column: coronary artery disease, Selected False, Rank: 15.000\n",
      "Column: appetite, Selected False, Rank: 7.000\n",
      "Column: pedal edema, Selected False, Rank: 10.000\n",
      "Column: anemia, Selected False, Rank: 13.000\n"
     ]
    }
   ],
   "source": [
    "# define RFE\n",
    "rfe = RFE(estimator=RandomForestClassifier(), n_features_to_select=9)\n",
    "# fit RFE\n",
    "rfe.fit(X, y)\n",
    "selected=[]\n",
    "# summarize all features\n",
    "for i in range(X.shape[1]):\n",
    "    print('Column: %s, Selected %s, Rank: %.3f' % (data.columns[i], rfe.support_[i], rfe.ranking_[i]))\n",
    "    if rfe.support_[i]:\n",
    "        selected.append(data.columns[i])\n",
    "df = data[data.columns & selected]"
   ]
  },
  {
   "cell_type": "code",
   "execution_count": 40,
   "id": "c1a7d5bb",
   "metadata": {},
   "outputs": [
    {
     "data": {
      "text/plain": [
       "Index(['ur_specific_gravity', 'ur_albumin', 'blood glucose random',\n",
       "       'serum creatinine', 'hemoglobin', 'packed cell volume',\n",
       "       'red blood cell count', 'hypertension', 'diabetes'],\n",
       "      dtype='object')"
      ]
     },
     "execution_count": 40,
     "metadata": {},
     "output_type": "execute_result"
    }
   ],
   "source": [
    "df.columns"
   ]
  },
  {
   "cell_type": "markdown",
   "id": "c3c23011",
   "metadata": {},
   "source": [
    "## This can also be achieved using RFECV instead of brute forcing the number of features to select\n",
    "\n",
    "\n",
    "### But first let's get the best parameters for our RandomForestClassifier to avoid variance in results."
   ]
  },
  {
   "cell_type": "code",
   "execution_count": 41,
   "id": "9a2eb396",
   "metadata": {},
   "outputs": [
    {
     "data": {
      "text/plain": [
       "GridSearchCV(cv=5, estimator=RandomForestClassifier(random_state=42),\n",
       "             param_grid={'criterion': ['gini', 'entropy'],\n",
       "                         'max_depth': [4, 5, 6, 7, 8],\n",
       "                         'max_features': ['auto', 'sqrt', 'log2'],\n",
       "                         'n_estimators': [200, 500]})"
      ]
     },
     "execution_count": 41,
     "metadata": {},
     "output_type": "execute_result"
    }
   ],
   "source": [
    "from sklearn.model_selection import GridSearchCV\n",
    "rfcc=RandomForestClassifier(random_state=42)\n",
    "param_grid = { \n",
    "    'n_estimators': [200, 500],\n",
    "    'max_features': ['auto', 'sqrt', 'log2'],\n",
    "    'max_depth' : [4,5,6,7,8],\n",
    "    'criterion' :['gini', 'entropy']\n",
    "}\n",
    "CV_rfc = GridSearchCV(estimator=rfcc, param_grid=param_grid, cv= 5)\n",
    "CV_rfc.fit(X, y)"
   ]
  },
  {
   "cell_type": "code",
   "execution_count": 42,
   "id": "d843ee42",
   "metadata": {},
   "outputs": [
    {
     "data": {
      "text/plain": [
       "{'criterion': 'gini',\n",
       " 'max_depth': 4,\n",
       " 'max_features': 'auto',\n",
       " 'n_estimators': 200}"
      ]
     },
     "execution_count": 42,
     "metadata": {},
     "output_type": "execute_result"
    }
   ],
   "source": [
    "CV_rfc.best_params_"
   ]
  },
  {
   "cell_type": "code",
   "execution_count": 43,
   "id": "dd0e3ea1",
   "metadata": {},
   "outputs": [
    {
     "name": "stdout",
     "output_type": "stream",
     "text": [
      "Accuracy: 0.984 (0.027)\n",
      "Column: 0, Selected True, Rank: 1.000\n",
      "Column: 1, Selected True, Rank: 1.000\n",
      "Column: 2, Selected True, Rank: 1.000\n",
      "Column: 3, Selected True, Rank: 1.000\n",
      "Column: 4, Selected True, Rank: 1.000\n",
      "Column: 5, Selected True, Rank: 1.000\n",
      "Column: 6, Selected True, Rank: 1.000\n",
      "Column: 7, Selected True, Rank: 1.000\n",
      "Column: 8, Selected True, Rank: 1.000\n",
      "Column: 9, Selected True, Rank: 1.000\n",
      "Column: 10, Selected True, Rank: 1.000\n",
      "Column: 11, Selected True, Rank: 1.000\n",
      "Column: 12, Selected True, Rank: 1.000\n",
      "Column: 13, Selected True, Rank: 1.000\n",
      "Column: 14, Selected True, Rank: 1.000\n",
      "Column: 15, Selected True, Rank: 1.000\n",
      "Column: 16, Selected True, Rank: 1.000\n",
      "Column: 17, Selected True, Rank: 1.000\n",
      "Column: 18, Selected True, Rank: 1.000\n",
      "Column: 19, Selected True, Rank: 1.000\n",
      "Column: 20, Selected False, Rank: 2.000\n",
      "Column: 21, Selected True, Rank: 1.000\n",
      "Column: 22, Selected True, Rank: 1.000\n",
      "Column: 23, Selected True, Rank: 1.000\n"
     ]
    }
   ],
   "source": [
    "from sklearn.feature_selection import RFECV\n",
    "\n",
    "rfecv = RFECV(estimator=RandomForestClassifier())\n",
    "model = RandomForestClassifier(n_estimators=200, criterion='gini', max_depth=4, max_features='auto', random_state=42)\n",
    "pipeline = Pipeline(steps=[('s',rfecv),('m',model)])\n",
    "# evaluate model\n",
    "cv = RepeatedStratifiedKFold(n_splits=10, n_repeats=3, random_state=1)\n",
    "n_scores = cross_val_score(pipeline, X, y, scoring='accuracy', cv=cv, n_jobs=-1, error_score='raise')\n",
    "# report performance\n",
    "print('Accuracy: %.3f (%.3f)' % (mean(n_scores), std(n_scores)))\n",
    "# summarize all features\n",
    "rfecv.fit(X, y)\n",
    "feat = []\n",
    "for i in range(X.shape[1]):\n",
    "    print('Column: %d, Selected %s, Rank: %.3f' % (i, rfecv.support_[i], rfecv.ranking_[i]))\n",
    "    if rfe.support_[i]:\n",
    "        feat.append(data.columns[i])"
   ]
  },
  {
   "cell_type": "code",
   "execution_count": 44,
   "id": "ae868ba2",
   "metadata": {},
   "outputs": [],
   "source": [
    "rfecv_df = data[data.columns & feat]"
   ]
  },
  {
   "cell_type": "markdown",
   "id": "783fa629",
   "metadata": {},
   "source": [
    "# Modeling on all features"
   ]
  },
  {
   "cell_type": "code",
   "execution_count": 45,
   "id": "6fff1b55",
   "metadata": {},
   "outputs": [],
   "source": [
    "from sklearn.ensemble import AdaBoostClassifier\n",
    "from sklearn.tree import DecisionTreeClassifier\n",
    "from sklearn.svm import SVC\n",
    "from sklearn.model_selection import train_test_split\n",
    "from sklearn.metrics import accuracy_score, f1_score\n",
    "from sklearn.metrics import roc_curve, auc, precision_score, recall_score\n",
    "from sklearn.neighbors import KNeighborsClassifier\n",
    "\n",
    "classifiers = ['LinearSVM','Random Forest', 'Decision Tree', 'KNeighbors']\n",
    "\n",
    "models = [SVC(kernel='linear', C=1000.0),\n",
    "          RandomForestClassifier(),\n",
    "          DecisionTreeClassifier(),\n",
    "          KNeighborsClassifier(n_neighbors=3, metric = 'euclidean')]\n",
    "\n",
    "def split(df,label):\n",
    "    X_tr, X_te, Y_tr, Y_te = train_test_split(df, label, test_size=0.25, random_state=42)\n",
    "    return X_tr, X_te, Y_tr, Y_te\n",
    "\n",
    "def acc_score(df,label):\n",
    "    Score = pd.DataFrame({\"Classifier\":classifiers})\n",
    "    j = 0\n",
    "    acc = []\n",
    "    prec = []\n",
    "    rec = []\n",
    "    f_score = []\n",
    "    X_train,X_test,Y_train,Y_test = split(df,label)\n",
    "    for i in models:\n",
    "        model = i\n",
    "        model.fit(X_train,Y_train)\n",
    "        predictions = model.predict(X_test)\n",
    "        acc.append(accuracy_score(Y_test,predictions))\n",
    "        prec.append(precision_score(Y_test, predictions))\n",
    "        rec.append(recall_score(Y_test, predictions))\n",
    "        f_score.append(f1_score(Y_test, predictions))\n",
    "        j = j+1     \n",
    "    Score[\"Accuracy\"] = acc\n",
    "    Score[\"Precision\"] = prec\n",
    "    Score[\"Recall\"] = rec\n",
    "    Score[\"F-Measure\"] = f_score\n",
    "    Score.sort_values(by=\"Accuracy\", ascending=False,inplace = True)\n",
    "    Score.reset_index(drop=True, inplace=True)\n",
    "    return Score"
   ]
  },
  {
   "cell_type": "code",
   "execution_count": 46,
   "id": "0eba49cd",
   "metadata": {},
   "outputs": [
    {
     "data": {
      "text/html": [
       "<div>\n",
       "<style scoped>\n",
       "    .dataframe tbody tr th:only-of-type {\n",
       "        vertical-align: middle;\n",
       "    }\n",
       "\n",
       "    .dataframe tbody tr th {\n",
       "        vertical-align: top;\n",
       "    }\n",
       "\n",
       "    .dataframe thead th {\n",
       "        text-align: right;\n",
       "    }\n",
       "</style>\n",
       "<table border=\"1\" class=\"dataframe\">\n",
       "  <thead>\n",
       "    <tr style=\"text-align: right;\">\n",
       "      <th></th>\n",
       "      <th>Classifier</th>\n",
       "      <th>Accuracy</th>\n",
       "      <th>Precision</th>\n",
       "      <th>Recall</th>\n",
       "      <th>F-Measure</th>\n",
       "    </tr>\n",
       "  </thead>\n",
       "  <tbody>\n",
       "    <tr>\n",
       "      <th>0</th>\n",
       "      <td>Random Forest</td>\n",
       "      <td>1.00</td>\n",
       "      <td>1.000000</td>\n",
       "      <td>1.000000</td>\n",
       "      <td>1.000000</td>\n",
       "    </tr>\n",
       "    <tr>\n",
       "      <th>1</th>\n",
       "      <td>Decision Tree</td>\n",
       "      <td>1.00</td>\n",
       "      <td>1.000000</td>\n",
       "      <td>1.000000</td>\n",
       "      <td>1.000000</td>\n",
       "    </tr>\n",
       "    <tr>\n",
       "      <th>2</th>\n",
       "      <td>LinearSVM</td>\n",
       "      <td>0.98</td>\n",
       "      <td>0.971429</td>\n",
       "      <td>0.971429</td>\n",
       "      <td>0.971429</td>\n",
       "    </tr>\n",
       "    <tr>\n",
       "      <th>3</th>\n",
       "      <td>KNeighbors</td>\n",
       "      <td>0.78</td>\n",
       "      <td>0.627451</td>\n",
       "      <td>0.914286</td>\n",
       "      <td>0.744186</td>\n",
       "    </tr>\n",
       "  </tbody>\n",
       "</table>\n",
       "</div>"
      ],
      "text/plain": [
       "      Classifier  Accuracy  Precision    Recall  F-Measure\n",
       "0  Random Forest      1.00   1.000000  1.000000   1.000000\n",
       "1  Decision Tree      1.00   1.000000  1.000000   1.000000\n",
       "2      LinearSVM      0.98   0.971429  0.971429   0.971429\n",
       "3     KNeighbors      0.78   0.627451  0.914286   0.744186"
      ]
     },
     "execution_count": 46,
     "metadata": {},
     "output_type": "execute_result"
    }
   ],
   "source": [
    "score1 = acc_score(X,y)\n",
    "score1"
   ]
  },
  {
   "cell_type": "markdown",
   "id": "31ca1afa",
   "metadata": {},
   "source": [
    "# Modelling with RFECV\n",
    "## Support Vector Machine"
   ]
  },
  {
   "cell_type": "code",
   "execution_count": 47,
   "id": "cb8d5900",
   "metadata": {},
   "outputs": [
    {
     "name": "stdout",
     "output_type": "stream",
     "text": [
      "Model accuracy score with linear kernel and C=1000.0 : 0.9625\n"
     ]
    }
   ],
   "source": [
    "# Split the dataset\n",
    "X_train, X_test, y_train, y_test = train_test_split(rfecv_df, y, test_size=0.2)\n",
    "\n",
    "# instantiate classifier with linear kernel and C=1000.0\n",
    "linear_svc1000=SVC(kernel='linear', C=1000.0) \n",
    "\n",
    "\n",
    "# fit classifier to training set\n",
    "linear_svc1000.fit(X_train, y_train)\n",
    "\n",
    "\n",
    "# make predictions on test set\n",
    "y_pred=linear_svc1000.predict(X_test)\n",
    "\n",
    "# compute and print accuracy score\n",
    "print('Model accuracy score with linear kernel and C=1000.0 : {0:0.4f}'. format(accuracy_score(y_test, y_pred)))"
   ]
  },
  {
   "cell_type": "code",
   "execution_count": 48,
   "id": "eedfbc40",
   "metadata": {},
   "outputs": [
    {
     "name": "stdout",
     "output_type": "stream",
     "text": [
      "Training set score: 0.9844\n",
      "Test set score: 0.9625\n"
     ]
    }
   ],
   "source": [
    "y_pred_train = linear_svc1000.predict(X_train)\n",
    "\n",
    "print('Training set score: {:.4f}'.format(linear_svc1000.score(X_train, y_train)))\n",
    "\n",
    "print('Test set score: {:.4f}'.format(linear_svc1000.score(X_test, y_test)))"
   ]
  },
  {
   "cell_type": "markdown",
   "id": "f079da1a",
   "metadata": {},
   "source": [
    "#### Compare model accuracy with null accuracy\n",
    "#### So, the model accuracy is 0.9875. But, we cannot say that our model is very good based on the above accuracy. We must compare it with the null accuracy. Null accuracy is the accuracy that could be achieved by always predicting the most frequent class.\n",
    "\n",
    "#### So, we should first check the class distribution in the test set."
   ]
  },
  {
   "cell_type": "code",
   "execution_count": 49,
   "id": "2cd45a6c",
   "metadata": {},
   "outputs": [
    {
     "data": {
      "text/plain": [
       "0    51\n",
       "1    29\n",
       "Name: class, dtype: int64"
      ]
     },
     "execution_count": 49,
     "metadata": {},
     "output_type": "execute_result"
    }
   ],
   "source": [
    "# check class distribution in test set\n",
    "y_test.value_counts()"
   ]
  },
  {
   "cell_type": "code",
   "execution_count": 50,
   "id": "d30b896f",
   "metadata": {},
   "outputs": [
    {
     "name": "stdout",
     "output_type": "stream",
     "text": [
      "Null accuracy score: 0.6750\n"
     ]
    }
   ],
   "source": [
    "# check null accuracy score\n",
    "\n",
    "null_accuracy = (54/(54+26))\n",
    "\n",
    "print('Null accuracy score: {0:0.4f}'. format(null_accuracy))"
   ]
  },
  {
   "cell_type": "markdown",
   "id": "f68a7f82",
   "metadata": {},
   "source": [
    "We can see that our model accuracy score is 0.9750 but null accuracy score is 0.6750. So, we can conclude that our SVM classifier is doing a very good job in predicting the class labels."
   ]
  },
  {
   "cell_type": "code",
   "execution_count": 51,
   "id": "14a3b71f",
   "metadata": {},
   "outputs": [
    {
     "name": "stdout",
     "output_type": "stream",
     "text": [
      "Confusion matrix\n",
      "\n",
      " [[50  1]\n",
      " [ 2 27]]\n",
      "\n",
      "True Positives(TP) =  50\n",
      "\n",
      "True Negatives(TN) =  27\n",
      "\n",
      "False Positives(FP) =  1\n",
      "\n",
      "False Negatives(FN) =  2\n"
     ]
    }
   ],
   "source": [
    "# Print the Confusion Matrix and slice it into four pieces\n",
    "\n",
    "from sklearn.metrics import confusion_matrix\n",
    "\n",
    "cm = confusion_matrix(y_test, y_pred)\n",
    "\n",
    "print('Confusion matrix\\n\\n', cm)\n",
    "\n",
    "print('\\nTrue Positives(TP) = ', cm[0,0])\n",
    "\n",
    "print('\\nTrue Negatives(TN) = ', cm[1,1])\n",
    "\n",
    "print('\\nFalse Positives(FP) = ', cm[0,1])\n",
    "\n",
    "print('\\nFalse Negatives(FN) = ', cm[1,0])"
   ]
  },
  {
   "cell_type": "markdown",
   "id": "1e51d16e",
   "metadata": {},
   "source": [
    "### The confusion matrix shows 54 + 25 = 79 correct predictions and 0 + 1 = 1 incorrect predictions.\n",
    "\n",
    "#### In this case, we have\n",
    "\n",
    "#### True Positives (Actual Positive:1 and Predict Positive:1) - 54\n",
    "#### True Negatives (Actual Negative:0 and Predict Negative:0) - 25\n",
    "#### False Positives (Actual Negative:0 but Predict Positive:1) - 0 (Type I error)\n",
    "#### False Negatives (Actual Positive:1 but Predict Negative:0) - 1 (Type II error)"
   ]
  },
  {
   "cell_type": "code",
   "execution_count": 52,
   "id": "1aaa992c",
   "metadata": {},
   "outputs": [
    {
     "data": {
      "text/plain": [
       "<AxesSubplot:>"
      ]
     },
     "execution_count": 52,
     "metadata": {},
     "output_type": "execute_result"
    },
    {
     "data": {
      "image/png": "[encoded data removed]",
      "text/plain": [
       "<Figure size 432x288 with 2 Axes>"
      ]
     },
     "metadata": {
      "needs_background": "light"
     },
     "output_type": "display_data"
    }
   ],
   "source": [
    "# visualize confusion matrix with seaborn heatmap\n",
    "from sklearn.metrics import confusion_matrix\n",
    "\n",
    "cm = confusion_matrix(y_test, y_pred)\n",
    "\n",
    "cm_matrix = pd.DataFrame(data=cm, columns=['Actual Positive:1', 'Actual Negative:0'], \n",
    "                                 index=['Predict Positive:1', 'Predict Negative:0'])\n",
    "\n",
    "sns.heatmap(cm_matrix, annot=True, fmt='d', cmap='YlGnBu')"
   ]
  },
  {
   "cell_type": "code",
   "execution_count": 53,
   "id": "6863530d",
   "metadata": {
    "scrolled": true
   },
   "outputs": [
    {
     "name": "stdout",
     "output_type": "stream",
     "text": [
      "              precision    recall  f1-score   support\n",
      "\n",
      "           0       0.96      0.98      0.97        51\n",
      "           1       0.96      0.93      0.95        29\n",
      "\n",
      "    accuracy                           0.96        80\n",
      "   macro avg       0.96      0.96      0.96        80\n",
      "weighted avg       0.96      0.96      0.96        80\n",
      "\n"
     ]
    }
   ],
   "source": [
    "from sklearn.metrics import classification_report\n",
    "\n",
    "print(classification_report(y_test, y_pred))"
   ]
  },
  {
   "cell_type": "code",
   "execution_count": 54,
   "id": "7be24c47",
   "metadata": {},
   "outputs": [
    {
     "data": {
      "image/png": "[encoded data removed]",
      "text/plain": [
       "<Figure size 432x288 with 1 Axes>"
      ]
     },
     "metadata": {
      "needs_background": "light"
     },
     "output_type": "display_data"
    }
   ],
   "source": [
    "# plot ROC Curve\n",
    "\n",
    "from sklearn.metrics import roc_curve\n",
    "\n",
    "fpr, tpr, thresholds = roc_curve(y_test, y_pred)\n",
    "\n",
    "plt.figure(figsize=(6,4))\n",
    "\n",
    "plt.plot(fpr, tpr, linewidth=2)\n",
    "\n",
    "plt.plot([0,1], [0,1], 'k--' )\n",
    "\n",
    "plt.rcParams['font.size'] = 12\n",
    "\n",
    "plt.title('ROC curve for Predicting a Chronic Kidney Disease classifier')\n",
    "\n",
    "plt.xlabel('False Positive Rate (1 - Specificity)')\n",
    "\n",
    "plt.ylabel('True Positive Rate (Sensitivity)')\n",
    "\n",
    "plt.show()"
   ]
  },
  {
   "cell_type": "code",
   "execution_count": 55,
   "id": "df980c11",
   "metadata": {},
   "outputs": [
    {
     "name": "stdout",
     "output_type": "stream",
     "text": [
      "ROC AUC : 0.9557\n"
     ]
    }
   ],
   "source": [
    "# compute ROC AUC\n",
    "\n",
    "from sklearn.metrics import roc_auc_score\n",
    "\n",
    "ROC_AUC = roc_auc_score(y_test, y_pred)\n",
    "\n",
    "print('ROC AUC : {:.4f}'.format(ROC_AUC))"
   ]
  },
  {
   "cell_type": "code",
   "execution_count": 56,
   "id": "44b719a0",
   "metadata": {},
   "outputs": [
    {
     "name": "stdout",
     "output_type": "stream",
     "text": [
      "[1.    1.    0.95  0.975 0.975 1.    0.925 0.925 1.    1.    0.975 1.\n",
      " 0.975 1.    0.975 0.925 0.975 0.975 1.    0.975 0.95  0.925 1.    1.\n",
      " 1.    1.    0.975 0.925 0.975 1.   ]\n",
      "cv_scores mean:0.9758333333333334\n"
     ]
    }
   ],
   "source": [
    "from sklearn.model_selection import KFold\n",
    "\n",
    "#train model with cv of 12\n",
    "# svm_folds=KFold(n_splits=12,shuffle=True,random_state=100)\n",
    "svm_cv = RepeatedStratifiedKFold(n_splits=10, n_repeats=3, random_state=1)\n",
    "svm_cv_scores = cross_val_score(linear_svc1000, rfecv_df, y, cv=svm_cv)\n",
    "#print each cv score (accuracy) and average them\n",
    "print(svm_cv_scores)\n",
    "print('cv_scores mean:{}'.format(np.mean(svm_cv_scores)))"
   ]
  },
  {
   "cell_type": "markdown",
   "id": "57a0b575",
   "metadata": {},
   "source": [
    "# K-Nearest Neighbors"
   ]
  },
  {
   "cell_type": "code",
   "execution_count": 57,
   "id": "1b7c9772",
   "metadata": {},
   "outputs": [],
   "source": [
    "# Split data into training and testing sets\n",
    "X_ktrain, X_ktest, y_ktrain, y_ktest = train_test_split(rfecv_df, y, random_state=104, test_size=0.25)"
   ]
  },
  {
   "cell_type": "code",
   "execution_count": 58,
   "id": "503ec880",
   "metadata": {},
   "outputs": [
    {
     "data": {
      "text/plain": [
       "Text(0, 0.5, 'Score')"
      ]
     },
     "execution_count": 58,
     "metadata": {},
     "output_type": "execute_result"
    },
    {
     "data": {
      "image/png": "[encoded data removed]",
      "text/plain": [
       "<Figure size 864x432 with 1 Axes>"
      ]
     },
     "metadata": {
      "needs_background": "light"
     },
     "output_type": "display_data"
    }
   ],
   "source": [
    "score = []\n",
    "for i in range(1, 40):\n",
    "    knn = KNeighborsClassifier(i,metric='euclidean')\n",
    "    knn_model = knn.fit(X_ktrain, y_ktrain)\n",
    "    pred_i = knn_model.predict(X_ktest)\n",
    "    score.append(knn_model.score(X_ktest, y_ktest))\n",
    "plt.figure(figsize=(12, 6))\n",
    "plt.plot(range(1, 40), score, color='red', linestyle='dashed', marker='o',\n",
    "         markerfacecolor='blue', markersize=10)\n",
    "plt.title('Score for each k value')\n",
    "plt.xlabel('K ')\n",
    "plt.ylabel('Score')"
   ]
  },
  {
   "cell_type": "code",
   "execution_count": 59,
   "id": "35b99b65",
   "metadata": {},
   "outputs": [
    {
     "data": {
      "text/plain": [
       "[0.96,\n",
       " 0.93,\n",
       " 0.97,\n",
       " 0.99,\n",
       " 0.96,\n",
       " 0.96,\n",
       " 0.95,\n",
       " 0.96,\n",
       " 0.94,\n",
       " 0.94,\n",
       " 0.94,\n",
       " 0.94,\n",
       " 0.94,\n",
       " 0.95,\n",
       " 0.94,\n",
       " 0.94,\n",
       " 0.94,\n",
       " 0.94,\n",
       " 0.94,\n",
       " 0.94,\n",
       " 0.94,\n",
       " 0.94,\n",
       " 0.94,\n",
       " 0.94,\n",
       " 0.93,\n",
       " 0.93,\n",
       " 0.93,\n",
       " 0.94,\n",
       " 0.91,\n",
       " 0.92,\n",
       " 0.91,\n",
       " 0.93,\n",
       " 0.93,\n",
       " 0.93,\n",
       " 0.92,\n",
       " 0.92,\n",
       " 0.92,\n",
       " 0.92,\n",
       " 0.9]"
      ]
     },
     "execution_count": 59,
     "metadata": {},
     "output_type": "execute_result"
    }
   ],
   "source": [
    "score"
   ]
  },
  {
   "cell_type": "code",
   "execution_count": 60,
   "id": "ea3abf0b",
   "metadata": {},
   "outputs": [
    {
     "name": "stdout",
     "output_type": "stream",
     "text": [
      "Model accuracy score with KNN and n_neighbours=3 : 0.9700\n"
     ]
    }
   ],
   "source": [
    "# Training the K-NN model on the Training set\n",
    "from sklearn.neighbors import KNeighborsClassifier\n",
    "kclassifier = KNeighborsClassifier(n_neighbors = 3, metric = 'manhattan')\n",
    "kclassifier.fit(X_ktrain, y_ktrain)\n",
    "\n",
    "# Predicting the Test set results# In[ ]:\n",
    "y_kpred = kclassifier.predict(X_ktest)\n",
    "\n",
    "# compute and print accuracy score\n",
    "print('Model accuracy score with KNN and n_neighbours=3 : {0:0.4f}'. format(accuracy_score(y_ktest, y_kpred)))"
   ]
  },
  {
   "cell_type": "code",
   "execution_count": 61,
   "id": "71ae368a",
   "metadata": {},
   "outputs": [
    {
     "name": "stdout",
     "output_type": "stream",
     "text": [
      "Training set score: 0.9600\n",
      "Test set score: 0.9700\n"
     ]
    }
   ],
   "source": [
    "y_kpred_train = kclassifier.predict(X_ktrain)\n",
    "\n",
    "print('Training set score: {:.4f}'.format(kclassifier.score(X_ktrain, y_ktrain)))\n",
    "\n",
    "print('Test set score: {:.4f}'.format(kclassifier.score(X_ktest, y_ktest)))"
   ]
  },
  {
   "cell_type": "code",
   "execution_count": 62,
   "id": "34d581c6",
   "metadata": {},
   "outputs": [
    {
     "name": "stdout",
     "output_type": "stream",
     "text": [
      "Naive Bayes Classifier Model Accuracy: 0.97\n",
      "Naive Bayes Classifier Model Precision: 0.9487179487179487\n",
      "Naive Bayes Classifier Model Recall: 0.9736842105263158\n",
      "Naive Bayes Classifier Model F-measure: 0.9610389610389611\n"
     ]
    }
   ],
   "source": [
    "print(\"KNN Model Accuracy:\", accuracy_score(y_ktest, y_kpred))\n",
    "\n",
    "print(\"KNN Precision:\", precision_score(y_ktest, y_kpred))\n",
    "\n",
    "print(\"Naive Bayes Classifier Model Recall:\", recall_score(y_ktest, y_kpred))\n",
    "\n",
    "print(\"Naive Bayes Classifier Model F-measure:\", f1_score(y_ktest, y_kpred))"
   ]
  },
  {
   "cell_type": "code",
   "execution_count": 63,
   "id": "8713946b",
   "metadata": {},
   "outputs": [
    {
     "data": {
      "text/plain": [
       "0    62\n",
       "1    38\n",
       "Name: class, dtype: int64"
      ]
     },
     "execution_count": 63,
     "metadata": {},
     "output_type": "execute_result"
    }
   ],
   "source": [
    "# check class distribution in test set\n",
    "\n",
    "y_ktest.value_counts()"
   ]
  },
  {
   "cell_type": "code",
   "execution_count": 64,
   "id": "89432dd0",
   "metadata": {},
   "outputs": [
    {
     "name": "stdout",
     "output_type": "stream",
     "text": [
      "Null accuracy score: 0.6250\n"
     ]
    }
   ],
   "source": [
    "# check null accuracy score\n",
    "\n",
    "null_accuracy = (50/(50+30))\n",
    "\n",
    "print('Null accuracy score: {0:0.4f}'. format(null_accuracy))"
   ]
  },
  {
   "cell_type": "code",
   "execution_count": 65,
   "id": "4567cca8",
   "metadata": {},
   "outputs": [
    {
     "name": "stdout",
     "output_type": "stream",
     "text": [
      "Confusion matrix\n",
      "\n",
      " [[60  2]\n",
      " [ 1 37]]\n",
      "\n",
      "True Positives(TP) =  60\n",
      "\n",
      "True Negatives(TN) =  37\n",
      "\n",
      "False Positives(FP) =  2\n",
      "\n",
      "False Negatives(FN) =  1\n"
     ]
    }
   ],
   "source": [
    "from sklearn.metrics import confusion_matrix\n",
    "\n",
    "kcm = confusion_matrix(y_ktest, y_kpred)\n",
    "\n",
    "# Print the Confusion Matrix and slice it into four pieces\n",
    "print('Confusion matrix\\n\\n', kcm)\n",
    "\n",
    "print('\\nTrue Positives(TP) = ', kcm[0,0])\n",
    "\n",
    "print('\\nTrue Negatives(TN) = ', kcm[1,1])\n",
    "\n",
    "print('\\nFalse Positives(FP) = ', kcm[0,1])\n",
    "\n",
    "print('\\nFalse Negatives(FN) = ', kcm[1,0])"
   ]
  },
  {
   "cell_type": "code",
   "execution_count": 66,
   "id": "a121582c",
   "metadata": {},
   "outputs": [
    {
     "data": {
      "text/plain": [
       "<AxesSubplot:>"
      ]
     },
     "execution_count": 66,
     "metadata": {},
     "output_type": "execute_result"
    },
    {
     "data": {
      "image/png": "[encoded data removed]",
      "text/plain": [
       "<Figure size 432x288 with 2 Axes>"
      ]
     },
     "metadata": {
      "needs_background": "light"
     },
     "output_type": "display_data"
    }
   ],
   "source": [
    "# visualize confusion matrix with seaborn heatmap\n",
    "\n",
    "kcm_matrix = pd.DataFrame(data=kcm, columns=['Actual Positive:1', 'Actual Negative:0'], \n",
    "                                 index=['Predict Positive:1', 'Predict Negative:0'])\n",
    "\n",
    "sns.heatmap(kcm_matrix, annot=True, fmt='d', cmap='YlGnBu')"
   ]
  },
  {
   "cell_type": "code",
   "execution_count": 67,
   "id": "093ef770",
   "metadata": {},
   "outputs": [
    {
     "data": {
      "image/png": "[encoded data removed]",
      "text/plain": [
       "<Figure size 432x288 with 1 Axes>"
      ]
     },
     "metadata": {
      "needs_background": "light"
     },
     "output_type": "display_data"
    }
   ],
   "source": [
    "fpr, tpr, thresholds = roc_curve(y_ktest, y_kpred)\n",
    "\n",
    "plt.figure(figsize=(6,4))\n",
    "\n",
    "plt.plot(fpr, tpr, linewidth=2)\n",
    "\n",
    "plt.plot([0,1], [0,1], 'k--' )\n",
    "\n",
    "plt.rcParams['font.size'] = 12\n",
    "\n",
    "plt.title('ROC curve for Predicting a Chronic Kidney Disease classifier')\n",
    "\n",
    "plt.xlabel('False Positive Rate (1 - Specificity)')\n",
    "\n",
    "plt.ylabel('True Positive Rate (Sensitivity)')\n",
    "\n",
    "plt.show()"
   ]
  },
  {
   "cell_type": "code",
   "execution_count": 68,
   "id": "ccbd4473",
   "metadata": {},
   "outputs": [
    {
     "name": "stdout",
     "output_type": "stream",
     "text": [
      "              precision    recall  f1-score   support\n",
      "\n",
      "           0       0.98      0.97      0.98        62\n",
      "           1       0.95      0.97      0.96        38\n",
      "\n",
      "    accuracy                           0.97       100\n",
      "   macro avg       0.97      0.97      0.97       100\n",
      "weighted avg       0.97      0.97      0.97       100\n",
      "\n"
     ]
    }
   ],
   "source": [
    "print(classification_report(y_ktest, y_kpred))"
   ]
  },
  {
   "cell_type": "code",
   "execution_count": 69,
   "id": "d5fd53ff",
   "metadata": {},
   "outputs": [
    {
     "name": "stdout",
     "output_type": "stream",
     "text": [
      "[0.925 1.    0.9   0.95  0.95  0.975 0.85  0.925 0.975 0.975 0.95  1.\n",
      " 0.925 0.95  0.9   0.925 0.9   0.95  0.975 0.925 1.    0.875 0.975 0.975\n",
      " 0.95  0.975 1.    0.875 0.975 0.9  ]\n",
      "cv_scores mean:0.9441666666666667\n"
     ]
    }
   ],
   "source": [
    "#create a new KNN model, metric = 'euclidean'\n",
    "knn_cv = KNeighborsClassifier(n_neighbors=3, metric = 'euclidean')\n",
    "#train model with cv of 12\n",
    "# folds=KFold(n_splits=12,shuffle=True,random_state=100)\n",
    "kncv = RepeatedStratifiedKFold(n_splits=10, n_repeats=3, random_state=1)\n",
    "cv_scores = cross_val_score(knn_cv, rfecv_df, y, cv=kncv)\n",
    "#print each cv score (accuracy) and average them\n",
    "print(cv_scores)\n",
    "print('cv_scores mean:{}'.format(np.mean(cv_scores)))"
   ]
  },
  {
   "cell_type": "markdown",
   "id": "c095be4d",
   "metadata": {},
   "source": [
    "# Random Forest Classifier"
   ]
  },
  {
   "cell_type": "code",
   "execution_count": 70,
   "id": "036215f6",
   "metadata": {},
   "outputs": [],
   "source": [
    "x_rftrain, x_rftest, y_rftrain, y_rftest = train_test_split(rfecv_df, y, test_size=0.2)"
   ]
  },
  {
   "cell_type": "code",
   "execution_count": 71,
   "id": "e4354bbd",
   "metadata": {},
   "outputs": [
    {
     "name": "stdout",
     "output_type": "stream",
     "text": [
      "Random Forest Classifier Model Accuracy: 0.9875\n",
      "Random Forest Classifier Model Precision: 1.0\n",
      "Random Forest Classifier Model Recall: 0.9705882352941176\n",
      "Random Forest Classifier Model F-measure: 0.9850746268656716\n",
      "Mean cross-validation score: 0.99\n"
     ]
    }
   ],
   "source": [
    "from sklearn.ensemble import RandomForestClassifier\n",
    "from sklearn import metrics\n",
    "rfc=RandomForestClassifier(n_estimators=200, criterion='gini', max_depth=4, max_features='auto', random_state=42) \n",
    "rfc.fit(x_rftrain, y_rftrain)  \n",
    "y_rfpred=rfc.predict(x_rftest)\n",
    "RandomForestClf_accuracy_score = metrics.accuracy_score(y_rftest, y_rfpred)\n",
    "print(\"Random Forest Classifier Model Accuracy:\", accuracy_score(y_rftest, y_rfpred))\n",
    "\n",
    "print(\"Random Forest Classifier Model Precision:\", precision_score(y_rftest, y_rfpred))\n",
    "\n",
    "print(\"Random Forest Classifier Model Recall:\", recall_score(y_rftest, y_rfpred))\n",
    "\n",
    "print(\"Random Forest Classifier Model F-measure:\", f1_score(y_rftest, y_rfpred))\n",
    "\n",
    "scores = cross_val_score(rfc, x_rftrain, y_rftrain,cv=10)\n",
    "print(\"Mean cross-validation score: %.2f\" % scores.mean())"
   ]
  },
  {
   "cell_type": "code",
   "execution_count": 72,
   "id": "568eed74",
   "metadata": {},
   "outputs": [
    {
     "name": "stdout",
     "output_type": "stream",
     "text": [
      "Confusion matrix\n",
      "\n",
      "\n",
      "\n",
      "True Positives(TP) =  46\n",
      "\n",
      "True Negatives(TN) =  33\n",
      "\n",
      "False Positives(FP) =  0\n",
      "\n",
      "False Negatives(FN) =  1\n"
     ]
    }
   ],
   "source": [
    "# Print the Confusion Matrix and slice it into four pieces\n",
    "\n",
    "from sklearn.metrics import confusion_matrix\n",
    "\n",
    "cm = confusion_matrix(y_rftest, y_rfpred)\n",
    "\n",
    "print('Confusion matrix\\n\\n')\n",
    "\n",
    "print('\\nTrue Positives(TP) = ', cm[0,0])\n",
    "\n",
    "print('\\nTrue Negatives(TN) = ', cm[1,1])\n",
    "\n",
    "print('\\nFalse Positives(FP) = ', cm[0,1])\n",
    "\n",
    "print('\\nFalse Negatives(FN) = ', cm[1,0])"
   ]
  },
  {
   "cell_type": "code",
   "execution_count": 73,
   "id": "1653ae33",
   "metadata": {},
   "outputs": [
    {
     "data": {
      "text/plain": [
       "<AxesSubplot:>"
      ]
     },
     "execution_count": 73,
     "metadata": {},
     "output_type": "execute_result"
    },
    {
     "data": {
      "image/png": "[encoded data removed]",
      "text/plain": [
       "<Figure size 432x288 with 2 Axes>"
      ]
     },
     "metadata": {
      "needs_background": "light"
     },
     "output_type": "display_data"
    }
   ],
   "source": [
    "sns.heatmap(cm, square=True , annot=True)"
   ]
  },
  {
   "cell_type": "code",
   "execution_count": 74,
   "id": "b563866a",
   "metadata": {},
   "outputs": [
    {
     "name": "stdout",
     "output_type": "stream",
     "text": [
      "              precision    recall  f1-score   support\n",
      "\n",
      "           0       0.98      1.00      0.99        46\n",
      "           1       1.00      0.97      0.99        34\n",
      "\n",
      "    accuracy                           0.99        80\n",
      "   macro avg       0.99      0.99      0.99        80\n",
      "weighted avg       0.99      0.99      0.99        80\n",
      "\n"
     ]
    }
   ],
   "source": [
    "print(classification_report(y_rftest, y_rfpred))"
   ]
  },
  {
   "cell_type": "code",
   "execution_count": 75,
   "id": "c6806a50",
   "metadata": {},
   "outputs": [
    {
     "name": "stdout",
     "output_type": "stream",
     "text": [
      "0.9875\n",
      "0.990625\n"
     ]
    }
   ],
   "source": [
    "#Accuracy \n",
    "X_rfpred=rfc.predict(x_rftrain)\n",
    "print(accuracy_score(y_rftest, y_rfpred))\n",
    "print(accuracy_score(y_rftrain, X_rfpred))"
   ]
  },
  {
   "cell_type": "code",
   "execution_count": 76,
   "id": "c2da0291",
   "metadata": {},
   "outputs": [
    {
     "name": "stdout",
     "output_type": "stream",
     "text": [
      "0.9852941176470589\n",
      "0.9889283299526708\n"
     ]
    }
   ],
   "source": [
    "#Recall\n",
    "print(recall_score(y_rftest, y_rfpred,average='macro'))\n",
    "print(recall_score(y_rftrain, X_rfpred, average='macro'))"
   ]
  },
  {
   "cell_type": "code",
   "execution_count": 77,
   "id": "ab98f31c",
   "metadata": {},
   "outputs": [
    {
     "name": "stdout",
     "output_type": "stream",
     "text": [
      "0.9893617021276595\n",
      "0.9907741251325557\n"
     ]
    }
   ],
   "source": [
    "#Precision \n",
    "print(precision_score(y_rftest, y_rfpred,average='macro'))\n",
    "print(precision_score(y_rftrain, X_rfpred, average='macro'))"
   ]
  },
  {
   "cell_type": "code",
   "execution_count": 78,
   "id": "f1aefc38",
   "metadata": {},
   "outputs": [
    {
     "data": {
      "image/png": "[encoded data removed]",
      "text/plain": [
       "<Figure size 1296x576 with 1 Axes>"
      ]
     },
     "metadata": {
      "needs_background": "light"
     },
     "output_type": "display_data"
    }
   ],
   "source": [
    "feature_importance=pd.DataFrame({'rfc':rfc.feature_importances_},index=rfecv_df.columns)\n",
    "feature_importance.sort_values(by='rfc',ascending=True,inplace=True)\n",
    "\n",
    "index = np.arange(len(feature_importance))\n",
    "fig, ax = plt.subplots(figsize=(18,8))\n",
    "rfc_feature=ax.barh(index,feature_importance['rfc'],0.4,color='purple',label='Random Forest')\n",
    "ax.set(yticks=index+0.4,yticklabels=feature_importance.index)\n",
    "\n",
    "ax.legend()\n",
    "plt.show()"
   ]
  },
  {
   "cell_type": "markdown",
   "id": "de499b9f",
   "metadata": {},
   "source": [
    "# Comparison"
   ]
  },
  {
   "cell_type": "code",
   "execution_count": 79,
   "id": "7bf4195f",
   "metadata": {},
   "outputs": [],
   "source": [
    "from sklearn.ensemble import AdaBoostClassifier\n",
    "from sklearn.tree import DecisionTreeClassifier\n",
    "\n",
    "classifiers = ['LinearSVM','Random Forest', 'Decision Tree', 'KNeighbors']\n",
    "\n",
    "models = [SVC(kernel='linear', C=1000.0),\n",
    "          RandomForestClassifier(n_estimators=200, criterion='gini', max_depth=4, max_features='auto', random_state=42),\n",
    "          DecisionTreeClassifier(criterion='gini', max_depth=4, random_state=0),\n",
    "          KNeighborsClassifier(n_neighbors=3, metric = 'euclidean')]\n",
    "\n",
    "def split(df,label):\n",
    "    X_tr, X_te, Y_tr, Y_te = train_test_split(df, label, test_size=0.2, random_state=42)\n",
    "    return X_tr, X_te, Y_tr, Y_te\n",
    "\n",
    "def acc_score(df,label):\n",
    "    Score = pd.DataFrame({\"Classifier\":classifiers})\n",
    "    j = 0\n",
    "    acc = []\n",
    "    prec = []\n",
    "    rec = []\n",
    "    f_score = []\n",
    "    X_train,X_test,Y_train,Y_test = split(df,label)\n",
    "    for i in models:\n",
    "        model = i\n",
    "        model.fit(X_train,Y_train)\n",
    "        predictions = model.predict(X_test)\n",
    "        acc.append(accuracy_score(Y_test,predictions))\n",
    "        prec.append(precision_score(Y_test, predictions))\n",
    "        rec.append(recall_score(Y_test, predictions))\n",
    "        f_score.append(f1_score(Y_test, predictions))\n",
    "        j = j+1     \n",
    "    Score[\"Accuracy\"] = acc\n",
    "    Score[\"Precision\"] = prec\n",
    "    Score[\"Recall\"] = rec\n",
    "    Score[\"F-Measure\"] = f_score\n",
    "    Score.sort_values(by=\"Accuracy\", ascending=False,inplace = True)\n",
    "    Score.reset_index(drop=True, inplace=True)\n",
    "    return Score"
   ]
  },
  {
   "cell_type": "code",
   "execution_count": 80,
   "id": "330b5e2e",
   "metadata": {},
   "outputs": [
    {
     "data": {
      "text/html": [
       "<div>\n",
       "<style scoped>\n",
       "    .dataframe tbody tr th:only-of-type {\n",
       "        vertical-align: middle;\n",
       "    }\n",
       "\n",
       "    .dataframe tbody tr th {\n",
       "        vertical-align: top;\n",
       "    }\n",
       "\n",
       "    .dataframe thead th {\n",
       "        text-align: right;\n",
       "    }\n",
       "</style>\n",
       "<table border=\"1\" class=\"dataframe\">\n",
       "  <thead>\n",
       "    <tr style=\"text-align: right;\">\n",
       "      <th></th>\n",
       "      <th>Classifier</th>\n",
       "      <th>Accuracy</th>\n",
       "      <th>Precision</th>\n",
       "      <th>Recall</th>\n",
       "      <th>F-Measure</th>\n",
       "    </tr>\n",
       "  </thead>\n",
       "  <tbody>\n",
       "    <tr>\n",
       "      <th>0</th>\n",
       "      <td>LinearSVM</td>\n",
       "      <td>1.0000</td>\n",
       "      <td>1.000000</td>\n",
       "      <td>1.0</td>\n",
       "      <td>1.000000</td>\n",
       "    </tr>\n",
       "    <tr>\n",
       "      <th>1</th>\n",
       "      <td>Random Forest</td>\n",
       "      <td>1.0000</td>\n",
       "      <td>1.000000</td>\n",
       "      <td>1.0</td>\n",
       "      <td>1.000000</td>\n",
       "    </tr>\n",
       "    <tr>\n",
       "      <th>2</th>\n",
       "      <td>Decision Tree</td>\n",
       "      <td>0.9875</td>\n",
       "      <td>0.965517</td>\n",
       "      <td>1.0</td>\n",
       "      <td>0.982456</td>\n",
       "    </tr>\n",
       "    <tr>\n",
       "      <th>3</th>\n",
       "      <td>KNeighbors</td>\n",
       "      <td>0.9750</td>\n",
       "      <td>0.933333</td>\n",
       "      <td>1.0</td>\n",
       "      <td>0.965517</td>\n",
       "    </tr>\n",
       "  </tbody>\n",
       "</table>\n",
       "</div>"
      ],
      "text/plain": [
       "      Classifier  Accuracy  Precision  Recall  F-Measure\n",
       "0      LinearSVM    1.0000   1.000000     1.0   1.000000\n",
       "1  Random Forest    1.0000   1.000000     1.0   1.000000\n",
       "2  Decision Tree    0.9875   0.965517     1.0   0.982456\n",
       "3     KNeighbors    0.9750   0.933333     1.0   0.965517"
      ]
     },
     "execution_count": 80,
     "metadata": {},
     "output_type": "execute_result"
    }
   ],
   "source": [
    "score2 = acc_score(rfecv_df,y)\n",
    "score2"
   ]
  },
  {
   "cell_type": "code",
   "execution_count": null,
   "id": "92efdff8",
   "metadata": {},
   "outputs": [],
   "source": []
  }
 ],
 "metadata": {
  "kernelspec": {
   "display_name": "Python 3 (ipykernel)",
   "language": "python",
   "name": "python3"
  },
  "language_info": {
   "codemirror_mode": {
    "name": "ipython",
    "version": 3
   },
   "file_extension": ".py",
   "mimetype": "text/x-python",
   "name": "python",
   "nbconvert_exporter": "python",
   "pygments_lexer": "ipython3",
   "version": "3.9.12"
  }
 },
 "nbformat": 4,
 "nbformat_minor": 5
}
